{
 "cells": [
  {
   "cell_type": "code",
   "execution_count": 1,
   "id": "64adc06a-5bc3-4b8f-a82b-06e712e6f83f",
   "metadata": {},
   "outputs": [],
   "source": [
    "import numpy as np\n",
    "import pandas as pd\n",
    "import matplotlib.pyplot as plt\n",
    "import ssl\n",
    "import certifi\n",
    "ssl._create_default_https_context = ssl._create_unverified_context"
   ]
  },
  {
   "cell_type": "code",
   "execution_count": 2,
   "id": "de871882-82f8-480e-962f-a67e9b5609ff",
   "metadata": {},
   "outputs": [],
   "source": [
    "test_file = 'nlp-getting-started/test.csv'\n",
    "train_file = 'nlp-getting-started/train.csv'\n",
    "test_data = pd.read_csv(test_file)\n",
    "train_data = pd.read_csv(train_file)"
   ]
  },
  {
   "cell_type": "markdown",
   "id": "108bdce7-7536-4470-9e57-babab4ea7fb2",
   "metadata": {},
   "source": [
    "### Part A"
   ]
  },
  {
   "cell_type": "code",
   "execution_count": 3,
   "id": "b634e2a0-2526-4ece-9847-02be1769f27f",
   "metadata": {},
   "outputs": [
    {
     "name": "stdout",
     "output_type": "stream",
     "text": [
      "Number of training data points: 7613\n",
      "Number of test data points: 3263\n",
      "Percentage of real disasters in training data: 42.97%\n",
      "Percentage of non-disasters in training data: 57.03%\n"
     ]
    }
   ],
   "source": [
    "num_train = train_data.shape[0]\n",
    "num_test = test_data.shape[0]\n",
    "\n",
    "print(f'Number of training data points: {num_train}')\n",
    "print(f'Number of test data points: {num_test}')\n",
    "\n",
    "real_disaster_count = train_data[train_data['target'] == 1].shape[0]\n",
    "non_disaster_count = train_data[train_data['target'] == 0].shape[0]\n",
    "\n",
    "real_disaster_percentage = (real_disaster_count / num_train) * 100\n",
    "non_disaster_percentage = (non_disaster_count / num_train) * 100\n",
    "\n",
    "print(f'Percentage of real disasters in training data: {real_disaster_percentage:.2f}%')\n",
    "print(f'Percentage of non-disasters in training data: {non_disaster_percentage:.2f}%')"
   ]
  },
  {
   "cell_type": "markdown",
   "id": "908d4739-6f7b-452f-9c60-fe03788019f2",
   "metadata": {},
   "source": [
    "### Part B"
   ]
  },
  {
   "cell_type": "code",
   "execution_count": 4,
   "id": "618486c2-c783-4cfa-adda-ab96f5c4aa49",
   "metadata": {},
   "outputs": [
    {
     "name": "stdout",
     "output_type": "stream",
     "text": [
      "Number of training data points: 5329\n",
      "Number of development data points: 2284\n",
      "target\n",
      "0    0.570276\n",
      "1    0.429724\n",
      "Name: proportion, dtype: float64\n",
      "target\n",
      "0    0.57049\n",
      "1    0.42951\n",
      "Name: proportion, dtype: float64\n"
     ]
    }
   ],
   "source": [
    "from sklearn.model_selection import train_test_split\n",
    "\n",
    "# ensures that the distribution of the target column (i.e., real vs. non-disaster tweets) \n",
    "# is similar in both the training and development sets.\n",
    "train_set, dev_set = train_test_split(train_data, test_size=0.3, random_state=42, stratify=train_data['target'])\n",
    "\n",
    "print(f'Number of training data points: {train_set.shape[0]}')\n",
    "print(f'Number of development data points: {dev_set.shape[0]}')\n",
    "\n",
    "y_train = train_set['target']\n",
    "y_dev = dev_set['target']\n",
    "\n",
    "print(y_train.value_counts(normalize=True))\n",
    "print(y_dev.value_counts(normalize=True))"
   ]
  },
  {
   "cell_type": "markdown",
   "id": "306667ba-500b-4be5-8d18-b542e265ca74",
   "metadata": {},
   "source": [
    "### Part C"
   ]
  },
  {
   "cell_type": "code",
   "execution_count": 5,
   "id": "9543cfb2-ba43-4b6e-8dfc-2e109ae395ad",
   "metadata": {},
   "outputs": [
    {
     "data": {
      "text/html": [
       "<div>\n",
       "<style scoped>\n",
       "    .dataframe tbody tr th:only-of-type {\n",
       "        vertical-align: middle;\n",
       "    }\n",
       "\n",
       "    .dataframe tbody tr th {\n",
       "        vertical-align: top;\n",
       "    }\n",
       "\n",
       "    .dataframe thead th {\n",
       "        text-align: right;\n",
       "    }\n",
       "</style>\n",
       "<table border=\"1\" class=\"dataframe\">\n",
       "  <thead>\n",
       "    <tr style=\"text-align: right;\">\n",
       "      <th></th>\n",
       "      <th>text</th>\n",
       "      <th>processed_text</th>\n",
       "    </tr>\n",
       "  </thead>\n",
       "  <tbody>\n",
       "    <tr>\n",
       "      <th>1431</th>\n",
       "      <td>Was '80s New #Wave a #Casualty of #AIDS?: Twee...</td>\n",
       "      <td>wa 80s new wave casualty aids tweet since they...</td>\n",
       "    </tr>\n",
       "    <tr>\n",
       "      <th>5726</th>\n",
       "      <td>http://t.co/XlFi7ovhFJ VIDEO: 'We're picking u...</td>\n",
       "      <td>video picking body water rescuer searching hu...</td>\n",
       "    </tr>\n",
       "    <tr>\n",
       "      <th>6153</th>\n",
       "      <td>Don't argue cheap now. You're better than that...</td>\n",
       "      <td>dont argue cheap youre better</td>\n",
       "    </tr>\n",
       "    <tr>\n",
       "      <th>5962</th>\n",
       "      <td>@Scalpium SCREAMING</td>\n",
       "      <td>scalpium screaming</td>\n",
       "    </tr>\n",
       "    <tr>\n",
       "      <th>7558</th>\n",
       "      <td>coleslaw #wrecked http://t.co/sijNBmCZIJ</td>\n",
       "      <td>coleslaw wrecked</td>\n",
       "    </tr>\n",
       "  </tbody>\n",
       "</table>\n",
       "</div>"
      ],
      "text/plain": [
       "                                                   text  \\\n",
       "1431  Was '80s New #Wave a #Casualty of #AIDS?: Twee...   \n",
       "5726  http://t.co/XlFi7ovhFJ VIDEO: 'We're picking u...   \n",
       "6153  Don't argue cheap now. You're better than that...   \n",
       "5962                                @Scalpium SCREAMING   \n",
       "7558           coleslaw #wrecked http://t.co/sijNBmCZIJ   \n",
       "\n",
       "                                         processed_text  \n",
       "1431  wa 80s new wave casualty aids tweet since they...  \n",
       "5726   video picking body water rescuer searching hu...  \n",
       "6153                      dont argue cheap youre better  \n",
       "5962                                 scalpium screaming  \n",
       "7558                                  coleslaw wrecked   "
      ]
     },
     "execution_count": 5,
     "metadata": {},
     "output_type": "execute_result"
    }
   ],
   "source": [
    "import re\n",
    "import string\n",
    "import nltk\n",
    "from nltk.corpus import stopwords\n",
    "from nltk.stem import WordNetLemmatizer\n",
    "\n",
    "# nltk.download('stopwords')\n",
    "# nltk.download('wordnet')\n",
    "# nltk.download('omw-1.4')\n",
    "\n",
    "# Initialize the lemmatizer\n",
    "lemmatizer = WordNetLemmatizer()\n",
    "\n",
    "# Function to preprocess text\n",
    "def preprocess_tweet(text):\n",
    "    # 1. Convert all words to lowercase\n",
    "    text = text.lower()\n",
    "    \n",
    "    # 2. Lemmatize all the words\n",
    "    text = ' '.join([lemmatizer.lemmatize(word) for word in text.split()])\n",
    "    \n",
    "    # 3. Strip punctuation\n",
    "    text = text.translate(str.maketrans('', '', string.punctuation))\n",
    "    \n",
    "    # 4. Strip stop words\n",
    "    stop_words = set(stopwords.words('english'))\n",
    "    text = ' '.join([word for word in text.split() if word not in stop_words])\n",
    "    \n",
    "    # 5. Strip @ mentions and URLs\n",
    "    text = re.sub(r'@\\w+|http\\S+', '', text)\n",
    "    \n",
    "    return text\n",
    "\n",
    "train_set['processed_text'] = train_set['text'].apply(preprocess_tweet)\n",
    "dev_set['processed_text'] = dev_set['text'].apply(preprocess_tweet)\n",
    "\n",
    "# Show the first few processed tweets\n",
    "train_set[['text', 'processed_text']].head()\n",
    "dev_set[['text', 'processed_text']].head()"
   ]
  },
  {
   "cell_type": "markdown",
   "id": "eacdf4eb-4bd0-4cde-951c-360c2bfe4cbc",
   "metadata": {},
   "source": [
    "### Part D"
   ]
  },
  {
   "cell_type": "markdown",
   "id": "65323163-1a50-45f2-a4ec-831a19e551a8",
   "metadata": {},
   "source": [
    "#### Discovering Appropriate M"
   ]
  },
  {
   "cell_type": "code",
   "execution_count": 6,
   "id": "06f92a31-f71a-464f-ad69-65c8120eb3e3",
   "metadata": {},
   "outputs": [
    {
     "data": {
      "image/png": "[encoded data removed]",
      "text/plain": [
       "<Figure size 1000x600 with 1 Axes>"
      ]
     },
     "metadata": {},
     "output_type": "display_data"
    },
    {
     "name": "stdout",
     "output_type": "stream",
     "text": [
      "50th percentile: Words that appear at least 1 times cover 50% of the vocabulary.\n",
      "75th percentile: Words that appear at least 2 times cover 75% of the vocabulary.\n",
      "90th percentile: Words that appear at least 7 times cover 90% of the vocabulary.\n",
      "95th percentile: Words that appear at least 15 times cover 95% of the vocabulary.\n",
      "99th percentile: Words that appear at least 41 times cover 99% of the vocabulary.\n"
     ]
    }
   ],
   "source": [
    "from collections import Counter\n",
    "\n",
    "# Tokenize the words in the training set's 'text' column (replace 'text' with 'processed_text' if available)\n",
    "word_counts = Counter(\" \".join(train_set['processed_text']).split())\n",
    "\n",
    "# Get the total number of unique words and their frequencies\n",
    "word_frequencies = np.array(list(word_counts.values()))\n",
    "\n",
    "# Sort frequencies in ascending order\n",
    "sorted_frequencies = np.sort(word_frequencies)\n",
    "\n",
    "# Calculate cumulative sum of words appearing at least x times\n",
    "cumulative_frequencies = np.cumsum(sorted_frequencies[::-1])\n",
    "\n",
    "# Plot cumulative distribution to analyze where most words appear\n",
    "plt.figure(figsize=(10, 6))\n",
    "plt.plot(np.arange(1, len(cumulative_frequencies) + 1), cumulative_frequencies)\n",
    "plt.title('Cumulative Word Frequency Distribution')\n",
    "plt.xlabel('Number of Unique Words')\n",
    "plt.ylabel('Cumulative Frequency of Words')\n",
    "plt.grid(True)\n",
    "plt.show()\n",
    "\n",
    "# Print summary statistics for threshold selection\n",
    "percentiles = [50, 75, 90, 95, 99]\n",
    "for p in percentiles:\n",
    "    threshold = np.percentile(sorted_frequencies, p)\n",
    "    print(f\"{p}th percentile: Words that appear at least {int(threshold)} times cover {p}% of the vocabulary.\")"
   ]
  },
  {
   "cell_type": "markdown",
   "id": "a89495c3-8dc5-4211-98ca-7409bcb11f01",
   "metadata": {},
   "source": [
    "#### Bag Of Words"
   ]
  },
  {
   "cell_type": "code",
   "execution_count": 7,
   "id": "aecd9976-5ffc-4e96-a105-cc09f31f98b8",
   "metadata": {},
   "outputs": [
    {
     "name": "stdout",
     "output_type": "stream",
     "text": [
      "Total number of features in the BoW vectors: 1944\n"
     ]
    }
   ],
   "source": [
    "from sklearn.feature_extraction.text import CountVectorizer\n",
    "\n",
    "M = 5\n",
    "\n",
    "vectorizer = CountVectorizer(binary=True, min_df=M)\n",
    "\n",
    "# Fit the vectorizer on the training data (only on the 'processed_text' column)\n",
    "vectorizer.fit(train_set['processed_text'])\n",
    "\n",
    "# Transform the training and development sets into bag of words vectors\n",
    "X_train = vectorizer.transform(train_set['processed_text'])\n",
    "X_dev = vectorizer.transform(dev_set['processed_text'])\n",
    "\n",
    "print(f'Total number of features in the BoW vectors: {X_train.shape[1]}')"
   ]
  },
  {
   "cell_type": "markdown",
   "id": "2c45d310-f5e2-4449-9c9d-79523c9d0131",
   "metadata": {},
   "source": [
    "### Part E"
   ]
  },
  {
   "cell_type": "markdown",
   "id": "9caa5c85-191e-4bc5-8dc9-ebc86f233cbe",
   "metadata": {},
   "source": [
    "#### Part E.I | Logistic regression model without regularization terms."
   ]
  },
  {
   "cell_type": "code",
   "execution_count": 8,
   "id": "cf875168-5e0c-45f4-9876-5e4ec4e101fb",
   "metadata": {},
   "outputs": [
    {
     "name": "stdout",
     "output_type": "stream",
     "text": [
      "F1 Score on Training Set: 0.9689\n",
      "F1 Score on Development Set: 0.6940\n"
     ]
    }
   ],
   "source": [
    "from sklearn.linear_model import LogisticRegression\n",
    "from sklearn.metrics import f1_score\n",
    "\n",
    "log_reg_no_reg = LogisticRegression(penalty=None, solver='lbfgs', max_iter=1000)\n",
    "log_reg_no_reg.fit(X_train, y_train)\n",
    "\n",
    "y_train_pred = log_reg_no_reg.predict(X_train)\n",
    "y_dev_pred = log_reg_no_reg.predict(X_dev)\n",
    "\n",
    "f1_train = f1_score(y_train, y_train_pred)\n",
    "f1_dev = f1_score(y_dev, y_dev_pred)\n",
    "\n",
    "print(f\"F1 Score on Training Set: {f1_train:.4f}\")\n",
    "print(f\"F1 Score on Development Set: {f1_dev:.4f}\")"
   ]
  },
  {
   "cell_type": "markdown",
   "id": "a0edb390-595e-434c-be53-cf1bd25d8491",
   "metadata": {},
   "source": [
    "#### Part E.II | Logistic regression model with L1 regularization term."
   ]
  },
  {
   "cell_type": "code",
   "execution_count": 9,
   "id": "d043c3d4-122f-4206-a52f-dbd303f8ee1f",
   "metadata": {},
   "outputs": [
    {
     "name": "stdout",
     "output_type": "stream",
     "text": [
      "F1 Score on Training Set (L1 Regularization): 0.8446\n",
      "F1 Score on Development Set (L1 Regularization): 0.7500\n"
     ]
    }
   ],
   "source": [
    "log_reg_l1 = LogisticRegression(penalty='l1', solver='liblinear', max_iter=1000)\n",
    "\n",
    "log_reg_l1.fit(X_train, y_train)\n",
    "\n",
    "y_train_pred_l1 = log_reg_l1.predict(X_train)\n",
    "y_dev_pred_l1 = log_reg_l1.predict(X_dev)\n",
    "\n",
    "f1_train_l1 = f1_score(y_train, y_train_pred_l1)\n",
    "f1_dev_l1 = f1_score(y_dev, y_dev_pred_l1)\n",
    "\n",
    "print(f\"F1 Score on Training Set (L1 Regularization): {f1_train_l1:.4f}\")\n",
    "print(f\"F1 Score on Development Set (L1 Regularization): {f1_dev_l1:.4f}\")"
   ]
  },
  {
   "cell_type": "markdown",
   "id": "8dd56294-c7d4-45e6-abc5-9881542fc950",
   "metadata": {},
   "source": [
    "#### Part E.III | Logistic regression model with L2 regularization term."
   ]
  },
  {
   "cell_type": "code",
   "execution_count": 10,
   "id": "3adebf30-99fe-4f29-9f83-01fe095bbe7a",
   "metadata": {},
   "outputs": [
    {
     "name": "stdout",
     "output_type": "stream",
     "text": [
      "F1 Score on Training Set (L2 Regularization): 0.8631\n",
      "F1 Score on Development Set (L2 Regularization): 0.7549\n"
     ]
    }
   ],
   "source": [
    "log_reg_l2 = LogisticRegression(penalty='l2', solver='lbfgs', max_iter=1000)\n",
    "\n",
    "log_reg_l2.fit(X_train, y_train)\n",
    "\n",
    "y_train_pred_l2 = log_reg_l2.predict(X_train)\n",
    "y_dev_pred_l2 = log_reg_l2.predict(X_dev)\n",
    "\n",
    "f1_train_l2 = f1_score(y_train, y_train_pred_l2)\n",
    "f1_dev_l2 = f1_score(y_dev, y_dev_pred_l2)\n",
    "\n",
    "print(f\"F1 Score on Training Set (L2 Regularization): {f1_train_l2:.4f}\")\n",
    "print(f\"F1 Score on Development Set (L2 Regularization): {f1_dev_l2:.4f}\")"
   ]
  },
  {
   "cell_type": "markdown",
   "id": "33234c57-c685-4265-8c98-f9a10e651ec9",
   "metadata": {},
   "source": [
    "#### Part E.V | Most important words"
   ]
  },
  {
   "cell_type": "code",
   "execution_count": 11,
   "id": "d9991154-81a9-4afa-a439-6bd7a367ea59",
   "metadata": {},
   "outputs": [
    {
     "name": "stdout",
     "output_type": "stream",
     "text": [
      "Top 10 most important words for deciding whether a tweet is about a real disaster or not:\n",
      "spill: 4.1322\n",
      "airport: 3.6131\n",
      "hiroshima: 3.2936\n",
      "typhoon: 3.1624\n",
      "outbreak: 3.0993\n",
      "debris: 2.7610\n",
      "earthquake: 2.6958\n",
      "derailment: 2.5837\n",
      "wildfire: 2.5785\n",
      "bomber: 2.5704\n"
     ]
    }
   ],
   "source": [
    "coef_l1 = log_reg_l1.coef_[0] \n",
    "\n",
    "feature_names = vectorizer.get_feature_names_out()\n",
    "\n",
    "word_weights = list(zip(feature_names, coef_l1))\n",
    "\n",
    "important_words = sorted(word_weights, key=lambda x: abs(x[1]), reverse=True)\n",
    "\n",
    "print(\"Top 10 most important words for deciding whether a tweet is about a real disaster or not:\")\n",
    "for word, weight in important_words[:10]:\n",
    "    print(f\"{word}: {weight:.4f}\")"
   ]
  },
  {
   "cell_type": "code",
   "execution_count": null,
   "id": "0fe6f28e-fe82-4401-be5b-ef5ef655ea0f",
   "metadata": {},
   "outputs": [],
   "source": []
  },
  {
   "cell_type": "markdown",
   "id": "60b00ade-f87b-42d2-b421-a22aec3ffff5",
   "metadata": {},
   "source": [
    "### Part F"
   ]
  },
  {
   "cell_type": "code",
   "execution_count": 13,
   "id": "aa4a4f52-df6c-4e71-ad2a-5d73d5491d2a",
   "metadata": {},
   "outputs": [
    {
     "name": "stdout",
     "output_type": "stream",
     "text": [
      "F1 Score on Development Set: 0.7500\n"
     ]
    }
   ],
   "source": [
    "import numpy as np\n",
    "\n",
    "class BernoulliNaiveBayes:\n",
    "    def __init__(self, alpha=1.0):\n",
    "        self.alpha = alpha\n",
    "        self.class_priors = None\n",
    "        self.likelihoods = None\n",
    "        self.classes = None\n",
    "\n",
    "    def fit(self, X, y):\n",
    "        \"\"\" Fit the Bernoulli Naive Bayes model using Laplace smoothing. \"\"\"\n",
    "        n_samples, n_features = X.shape\n",
    "        self.classes = np.unique(y)\n",
    "        n_classes = len(self.classes)\n",
    "\n",
    "        self.class_priors = np.zeros(n_classes)\n",
    "        self.likelihoods = np.zeros((n_classes, n_features))\n",
    "\n",
    "        for idx, c in enumerate(self.classes):\n",
    "            X_c = X[y == c]\n",
    "            self.class_priors[idx] = X_c.shape[0] / float(n_samples)\n",
    "            self.likelihoods[idx, :] = (np.sum(X_c, axis=0) + self.alpha) / (X_c.shape[0] + 2 * self.alpha)\n",
    "\n",
    "    def predict(self, X):\n",
    "        \"\"\" Predict the class labels for input X. \"\"\"\n",
    "        if hasattr(X, \"toarray\"):\n",
    "            X = X.toarray()\n",
    "    \n",
    "        n_samples = X.shape[0]\n",
    "        n_classes = len(self.classes)\n",
    "        log_prob = np.zeros((n_samples, n_classes))\n",
    "    \n",
    "        for idx, c in enumerate(self.classes):\n",
    "            # Calculate log likelihood and log prior\n",
    "            log_likelihood = X * np.log(self.likelihoods[idx, :]) + (1 - X) * np.log(1 - self.likelihoods[idx, :])\n",
    "            log_prob[:, idx] = np.sum(log_likelihood, axis=1) + np.log(self.class_priors[idx])\n",
    "    \n",
    "        return self.classes[np.argmax(log_prob, axis=1)]\n",
    "\n",
    "    def predict_proba(self, X):\n",
    "        \"\"\" Predict the probability of each class. \"\"\"\n",
    "        n_samples = X.shape[0]\n",
    "        n_classes = len(self.classes)\n",
    "        log_prob = np.zeros((n_samples, n_classes))\n",
    "\n",
    "        for idx, c in enumerate(self.classes):\n",
    "            log_likelihood = X * np.log(self.likelihoods[idx, :]) + (1 - X) * np.log(1 - self.likelihoods[idx, :])\n",
    "            log_prob[:, idx] = np.sum(log_likelihood, axis=1) + np.log(self.class_priors[idx])\n",
    "\n",
    "        prob = np.exp(log_prob)\n",
    "        return prob / np.sum(prob, axis=1, keepdims=True)\n",
    "\n",
    "bnb = BernoulliNaiveBayes(alpha=1.0)\n",
    "bnb.fit(X_train, y_train)\n",
    "\n",
    "y_pred = bnb.predict(X_dev)\n",
    "\n",
    "f1 = f1_score(y_dev, y_pred)\n",
    "print(f\"F1 Score on Development Set: {f1:.4f}\")"
   ]
  },
  {
   "cell_type": "code",
   "execution_count": null,
   "id": "39faef62-fbc6-4c78-ac0d-3972d1757206",
   "metadata": {},
   "outputs": [],
   "source": []
  },
  {
   "cell_type": "markdown",
   "id": "5e2c487d-0072-4d8e-84de-e9ed9dbb85a1",
   "metadata": {},
   "source": [
    "### Part H"
   ]
  },
  {
   "cell_type": "markdown",
   "id": "84e99ce3-a60f-48d1-9ee2-2e9f4dbe3d6d",
   "metadata": {},
   "source": [
    "#### N-gram model"
   ]
  },
  {
   "cell_type": "code",
   "execution_count": 54,
   "id": "6f69dd28-d874-43ba-879a-70cab2311130",
   "metadata": {},
   "outputs": [
    {
     "name": "stdout",
     "output_type": "stream",
     "text": [
      "Total number of 2-grams in vocabulary: 601\n",
      "10 random 2-grams from the vocabulary: ['suspect dead', 'germ wake', 'suspect killed', 'past anniversary', 'cree led', 'cant wait', 'apollo brown', 'chinas stock', 'fukushima nuclear', 'nuclear disaster']\n"
     ]
    }
   ],
   "source": [
    "from sklearn.feature_extraction.text import CountVectorizer\n",
    "\n",
    "M = 5\n",
    "vectorizer = CountVectorizer(ngram_range=(2, 2), min_df=M)\n",
    "\n",
    "X_train_ngrams = vectorizer.fit_transform(train_set['processed_text'])\n",
    "X_dev_ngrams = vectorizer.transform(dev_set['processed_text'])\n",
    "\n",
    "vocabulary = vectorizer.get_feature_names_out()\n",
    "\n",
    "print(f\"Total number of 2-grams in vocabulary: {len(vocabulary)}\")\n",
    "\n",
    "# Print out 10 random 2-grams from the vocabulary\n",
    "import random\n",
    "random_ngrams = random.sample(list(vocabulary), 10)\n",
    "print(\"10 random 2-grams from the vocabulary:\", random_ngrams)"
   ]
  },
  {
   "cell_type": "code",
   "execution_count": 55,
   "id": "7c963bb6-c0c2-47cd-a7af-b2b54f63d8df",
   "metadata": {},
   "outputs": [
    {
     "data": {
      "image/png": "[encoded data removed]",
      "text/plain": [
       "<Figure size 1000x600 with 1 Axes>"
      ]
     },
     "metadata": {},
     "output_type": "display_data"
    }
   ],
   "source": [
    "# Get the frequency of each 2-gram\n",
    "ngram_frequencies = np.asarray(X_train_ngrams.sum(axis=0)).ravel()\n",
    "\n",
    "# Plot a histogram of 2-gram frequencies\n",
    "plt.figure(figsize=(10, 6))\n",
    "plt.hist(ngram_frequencies, bins=50)\n",
    "plt.title('2-Gram Frequency Distribution')\n",
    "plt.xlabel('Frequency')\n",
    "plt.ylabel('Number of 2-Grams')\n",
    "plt.grid(True)\n",
    "plt.show()\n",
    "\n",
    "# You can then choose an appropriate value for M based on the plot."
   ]
  },
  {
   "cell_type": "markdown",
   "id": "8a234c8f-b460-4d85-9ae1-8c6355e4aaa7",
   "metadata": {},
   "source": [
    "#### Logistic regression with N-gram"
   ]
  },
  {
   "cell_type": "code",
   "execution_count": 58,
   "id": "0492eddf-dd2e-418e-bc17-ed1bacfc08b9",
   "metadata": {},
   "outputs": [
    {
     "name": "stdout",
     "output_type": "stream",
     "text": [
      "F1 Score on Training Set (Logistic Regression with 2-grams): 0.5302\n",
      "F1 Score on Development Set (Logistic Regression with 2-grams): 0.5171\n"
     ]
    }
   ],
   "source": [
    "# Train logistic regression with L2 regularization (or adjust based on results from previous tasks)\n",
    "log_reg_2grams = LogisticRegression(penalty='l2', solver='lbfgs', max_iter=1000)\n",
    "log_reg_2grams.fit(X_train_ngrams, y_train)\n",
    "\n",
    "# Predict on training and development sets\n",
    "y_train_pred = log_reg_2grams.predict(X_train_ngrams)\n",
    "y_dev_pred = log_reg_2grams.predict(X_dev_ngrams)\n",
    "\n",
    "# Calculate F1-scores\n",
    "f1_train_lr = f1_score(y_train, y_train_pred)\n",
    "f1_dev_lr = f1_score(y_dev, y_dev_pred)\n",
    "\n",
    "print(f\"F1 Score on Training Set (Logistic Regression with 2-grams): {f1_train_lr:.4f}\")\n",
    "print(f\"F1 Score on Development Set (Logistic Regression with 2-grams): {f1_dev_lr:.4f}\")"
   ]
  },
  {
   "cell_type": "markdown",
   "id": "4262e27d-d056-46f5-a383-62f6df38d31f",
   "metadata": {},
   "source": [
    "#### Bernoulli Naive Bayes with N-gram"
   ]
  },
  {
   "cell_type": "code",
   "execution_count": 59,
   "id": "81e8d16b-5a10-4af3-8935-36638ab11c6b",
   "metadata": {
    "scrolled": true
   },
   "outputs": [
    {
     "name": "stdout",
     "output_type": "stream",
     "text": [
      "F1 Score on Training Set (Bernoulli Naive Bayes with 2-grams): 0.4838\n",
      "F1 Score on Development Set (Bernoulli Naive Bayes with 2-grams): 0.4832\n"
     ]
    }
   ],
   "source": [
    "from sklearn.naive_bayes import BernoulliNB\n",
    "\n",
    "bnb_2grams = BernoulliNB()\n",
    "bnb_2grams.fit(X_train_ngrams, y_train)\n",
    "\n",
    "y_train_pred_bnb = bnb_2grams.predict(X_train_ngrams)\n",
    "y_dev_pred_bnb = bnb_2grams.predict(X_dev_ngrams)\n",
    "\n",
    "f1_train_bnb = f1_score(y_train, y_train_pred_bnb)\n",
    "f1_dev_bnb = f1_score(y_dev, y_dev_pred_bnb)\n",
    "\n",
    "print(f\"F1 Score on Training Set (Bernoulli Naive Bayes with 2-grams): {f1_train_bnb:.4f}\")\n",
    "print(f\"F1 Score on Development Set (Bernoulli Naive Bayes with 2-grams): {f1_dev_bnb:.4f}\")"
   ]
  },
  {
   "cell_type": "code",
   "execution_count": null,
   "id": "0f7f03f9-e107-4755-a42d-46e3aa4d5151",
   "metadata": {},
   "outputs": [],
   "source": []
  },
  {
   "cell_type": "markdown",
   "id": "814d8872-0663-4838-b4f2-1a8da5c7b66a",
   "metadata": {},
   "source": [
    "### Part I"
   ]
  },
  {
   "cell_type": "code",
   "execution_count": 61,
   "id": "e85cd251-655d-4750-b202-63b413428f6e",
   "metadata": {},
   "outputs": [],
   "source": [
    "full_train_set = pd.concat([train_set, dev_set])\n",
    "\n",
    "vectorizer = CountVectorizer(min_df=5) \n",
    "X_full_train = vectorizer.fit_transform(full_train_set['processed_text'])\n",
    "\n",
    "y_full_train = full_train_set['target']"
   ]
  },
  {
   "cell_type": "code",
   "execution_count": 68,
   "id": "242b13ea-d096-44a6-9aec-be3f47d384b1",
   "metadata": {},
   "outputs": [],
   "source": [
    "test_data['processed_text'] = test_data['text'].apply(preprocess_tweet) \n",
    "X_test = vectorizer.transform(test_data['processed_text'])"
   ]
  },
  {
   "cell_type": "code",
   "execution_count": 69,
   "id": "935ab444-1fc1-4854-b3f7-3c963318e41c",
   "metadata": {},
   "outputs": [
    {
     "data": {
      "text/html": [
       "<style>#sk-container-id-1 {\n",
       "  /* Definition of color scheme common for light and dark mode */\n",
       "  --sklearn-color-text: black;\n",
       "  --sklearn-color-line: gray;\n",
       "  /* Definition of color scheme for unfitted estimators */\n",
       "  --sklearn-color-unfitted-level-0: #fff5e6;\n",
       "  --sklearn-color-unfitted-level-1: #f6e4d2;\n",
       "  --sklearn-color-unfitted-level-2: #ffe0b3;\n",
       "  --sklearn-color-unfitted-level-3: chocolate;\n",
       "  /* Definition of color scheme for fitted estimators */\n",
       "  --sklearn-color-fitted-level-0: #f0f8ff;\n",
       "  --sklearn-color-fitted-level-1: #d4ebff;\n",
       "  --sklearn-color-fitted-level-2: #b3dbfd;\n",
       "  --sklearn-color-fitted-level-3: cornflowerblue;\n",
       "\n",
       "  /* Specific color for light theme */\n",
       "  --sklearn-color-text-on-default-background: var(--sg-text-color, var(--theme-code-foreground, var(--jp-content-font-color1, black)));\n",
       "  --sklearn-color-background: var(--sg-background-color, var(--theme-background, var(--jp-layout-color0, white)));\n",
       "  --sklearn-color-border-box: var(--sg-text-color, var(--theme-code-foreground, var(--jp-content-font-color1, black)));\n",
       "  --sklearn-color-icon: #696969;\n",
       "\n",
       "  @media (prefers-color-scheme: dark) {\n",
       "    /* Redefinition of color scheme for dark theme */\n",
       "    --sklearn-color-text-on-default-background: var(--sg-text-color, var(--theme-code-foreground, var(--jp-content-font-color1, white)));\n",
       "    --sklearn-color-background: var(--sg-background-color, var(--theme-background, var(--jp-layout-color0, #111)));\n",
       "    --sklearn-color-border-box: var(--sg-text-color, var(--theme-code-foreground, var(--jp-content-font-color1, white)));\n",
       "    --sklearn-color-icon: #878787;\n",
       "  }\n",
       "}\n",
       "\n",
       "#sk-container-id-1 {\n",
       "  color: var(--sklearn-color-text);\n",
       "}\n",
       "\n",
       "#sk-container-id-1 pre {\n",
       "  padding: 0;\n",
       "}\n",
       "\n",
       "#sk-container-id-1 input.sk-hidden--visually {\n",
       "  border: 0;\n",
       "  clip: rect(1px 1px 1px 1px);\n",
       "  clip: rect(1px, 1px, 1px, 1px);\n",
       "  height: 1px;\n",
       "  margin: -1px;\n",
       "  overflow: hidden;\n",
       "  padding: 0;\n",
       "  position: absolute;\n",
       "  width: 1px;\n",
       "}\n",
       "\n",
       "#sk-container-id-1 div.sk-dashed-wrapped {\n",
       "  border: 1px dashed var(--sklearn-color-line);\n",
       "  margin: 0 0.4em 0.5em 0.4em;\n",
       "  box-sizing: border-box;\n",
       "  padding-bottom: 0.4em;\n",
       "  background-color: var(--sklearn-color-background);\n",
       "}\n",
       "\n",
       "#sk-container-id-1 div.sk-container {\n",
       "  /* jupyter's `normalize.less` sets `[hidden] { display: none; }`\n",
       "     but bootstrap.min.css set `[hidden] { display: none !important; }`\n",
       "     so we also need the `!important` here to be able to override the\n",
       "     default hidden behavior on the sphinx rendered scikit-learn.org.\n",
       "     See: https://github.com/scikit-learn/scikit-learn/issues/21755 */\n",
       "  display: inline-block !important;\n",
       "  position: relative;\n",
       "}\n",
       "\n",
       "#sk-container-id-1 div.sk-text-repr-fallback {\n",
       "  display: none;\n",
       "}\n",
       "\n",
       "div.sk-parallel-item,\n",
       "div.sk-serial,\n",
       "div.sk-item {\n",
       "  /* draw centered vertical line to link estimators */\n",
       "  background-image: linear-gradient(var(--sklearn-color-text-on-default-background), var(--sklearn-color-text-on-default-background));\n",
       "  background-size: 2px 100%;\n",
       "  background-repeat: no-repeat;\n",
       "  background-position: center center;\n",
       "}\n",
       "\n",
       "/* Parallel-specific style estimator block */\n",
       "\n",
       "#sk-container-id-1 div.sk-parallel-item::after {\n",
       "  content: \"\";\n",
       "  width: 100%;\n",
       "  border-bottom: 2px solid var(--sklearn-color-text-on-default-background);\n",
       "  flex-grow: 1;\n",
       "}\n",
       "\n",
       "#sk-container-id-1 div.sk-parallel {\n",
       "  display: flex;\n",
       "  align-items: stretch;\n",
       "  justify-content: center;\n",
       "  background-color: var(--sklearn-color-background);\n",
       "  position: relative;\n",
       "}\n",
       "\n",
       "#sk-container-id-1 div.sk-parallel-item {\n",
       "  display: flex;\n",
       "  flex-direction: column;\n",
       "}\n",
       "\n",
       "#sk-container-id-1 div.sk-parallel-item:first-child::after {\n",
       "  align-self: flex-end;\n",
       "  width: 50%;\n",
       "}\n",
       "\n",
       "#sk-container-id-1 div.sk-parallel-item:last-child::after {\n",
       "  align-self: flex-start;\n",
       "  width: 50%;\n",
       "}\n",
       "\n",
       "#sk-container-id-1 div.sk-parallel-item:only-child::after {\n",
       "  width: 0;\n",
       "}\n",
       "\n",
       "/* Serial-specific style estimator block */\n",
       "\n",
       "#sk-container-id-1 div.sk-serial {\n",
       "  display: flex;\n",
       "  flex-direction: column;\n",
       "  align-items: center;\n",
       "  background-color: var(--sklearn-color-background);\n",
       "  padding-right: 1em;\n",
       "  padding-left: 1em;\n",
       "}\n",
       "\n",
       "\n",
       "/* Toggleable style: style used for estimator/Pipeline/ColumnTransformer box that is\n",
       "clickable and can be expanded/collapsed.\n",
       "- Pipeline and ColumnTransformer use this feature and define the default style\n",
       "- Estimators will overwrite some part of the style using the `sk-estimator` class\n",
       "*/\n",
       "\n",
       "/* Pipeline and ColumnTransformer style (default) */\n",
       "\n",
       "#sk-container-id-1 div.sk-toggleable {\n",
       "  /* Default theme specific background. It is overwritten whether we have a\n",
       "  specific estimator or a Pipeline/ColumnTransformer */\n",
       "  background-color: var(--sklearn-color-background);\n",
       "}\n",
       "\n",
       "/* Toggleable label */\n",
       "#sk-container-id-1 label.sk-toggleable__label {\n",
       "  cursor: pointer;\n",
       "  display: block;\n",
       "  width: 100%;\n",
       "  margin-bottom: 0;\n",
       "  padding: 0.5em;\n",
       "  box-sizing: border-box;\n",
       "  text-align: center;\n",
       "}\n",
       "\n",
       "#sk-container-id-1 label.sk-toggleable__label-arrow:before {\n",
       "  /* Arrow on the left of the label */\n",
       "  content: \"▸\";\n",
       "  float: left;\n",
       "  margin-right: 0.25em;\n",
       "  color: var(--sklearn-color-icon);\n",
       "}\n",
       "\n",
       "#sk-container-id-1 label.sk-toggleable__label-arrow:hover:before {\n",
       "  color: var(--sklearn-color-text);\n",
       "}\n",
       "\n",
       "/* Toggleable content - dropdown */\n",
       "\n",
       "#sk-container-id-1 div.sk-toggleable__content {\n",
       "  max-height: 0;\n",
       "  max-width: 0;\n",
       "  overflow: hidden;\n",
       "  text-align: left;\n",
       "  /* unfitted */\n",
       "  background-color: var(--sklearn-color-unfitted-level-0);\n",
       "}\n",
       "\n",
       "#sk-container-id-1 div.sk-toggleable__content.fitted {\n",
       "  /* fitted */\n",
       "  background-color: var(--sklearn-color-fitted-level-0);\n",
       "}\n",
       "\n",
       "#sk-container-id-1 div.sk-toggleable__content pre {\n",
       "  margin: 0.2em;\n",
       "  border-radius: 0.25em;\n",
       "  color: var(--sklearn-color-text);\n",
       "  /* unfitted */\n",
       "  background-color: var(--sklearn-color-unfitted-level-0);\n",
       "}\n",
       "\n",
       "#sk-container-id-1 div.sk-toggleable__content.fitted pre {\n",
       "  /* unfitted */\n",
       "  background-color: var(--sklearn-color-fitted-level-0);\n",
       "}\n",
       "\n",
       "#sk-container-id-1 input.sk-toggleable__control:checked~div.sk-toggleable__content {\n",
       "  /* Expand drop-down */\n",
       "  max-height: 200px;\n",
       "  max-width: 100%;\n",
       "  overflow: auto;\n",
       "}\n",
       "\n",
       "#sk-container-id-1 input.sk-toggleable__control:checked~label.sk-toggleable__label-arrow:before {\n",
       "  content: \"▾\";\n",
       "}\n",
       "\n",
       "/* Pipeline/ColumnTransformer-specific style */\n",
       "\n",
       "#sk-container-id-1 div.sk-label input.sk-toggleable__control:checked~label.sk-toggleable__label {\n",
       "  color: var(--sklearn-color-text);\n",
       "  background-color: var(--sklearn-color-unfitted-level-2);\n",
       "}\n",
       "\n",
       "#sk-container-id-1 div.sk-label.fitted input.sk-toggleable__control:checked~label.sk-toggleable__label {\n",
       "  background-color: var(--sklearn-color-fitted-level-2);\n",
       "}\n",
       "\n",
       "/* Estimator-specific style */\n",
       "\n",
       "/* Colorize estimator box */\n",
       "#sk-container-id-1 div.sk-estimator input.sk-toggleable__control:checked~label.sk-toggleable__label {\n",
       "  /* unfitted */\n",
       "  background-color: var(--sklearn-color-unfitted-level-2);\n",
       "}\n",
       "\n",
       "#sk-container-id-1 div.sk-estimator.fitted input.sk-toggleable__control:checked~label.sk-toggleable__label {\n",
       "  /* fitted */\n",
       "  background-color: var(--sklearn-color-fitted-level-2);\n",
       "}\n",
       "\n",
       "#sk-container-id-1 div.sk-label label.sk-toggleable__label,\n",
       "#sk-container-id-1 div.sk-label label {\n",
       "  /* The background is the default theme color */\n",
       "  color: var(--sklearn-color-text-on-default-background);\n",
       "}\n",
       "\n",
       "/* On hover, darken the color of the background */\n",
       "#sk-container-id-1 div.sk-label:hover label.sk-toggleable__label {\n",
       "  color: var(--sklearn-color-text);\n",
       "  background-color: var(--sklearn-color-unfitted-level-2);\n",
       "}\n",
       "\n",
       "/* Label box, darken color on hover, fitted */\n",
       "#sk-container-id-1 div.sk-label.fitted:hover label.sk-toggleable__label.fitted {\n",
       "  color: var(--sklearn-color-text);\n",
       "  background-color: var(--sklearn-color-fitted-level-2);\n",
       "}\n",
       "\n",
       "/* Estimator label */\n",
       "\n",
       "#sk-container-id-1 div.sk-label label {\n",
       "  font-family: monospace;\n",
       "  font-weight: bold;\n",
       "  display: inline-block;\n",
       "  line-height: 1.2em;\n",
       "}\n",
       "\n",
       "#sk-container-id-1 div.sk-label-container {\n",
       "  text-align: center;\n",
       "}\n",
       "\n",
       "/* Estimator-specific */\n",
       "#sk-container-id-1 div.sk-estimator {\n",
       "  font-family: monospace;\n",
       "  border: 1px dotted var(--sklearn-color-border-box);\n",
       "  border-radius: 0.25em;\n",
       "  box-sizing: border-box;\n",
       "  margin-bottom: 0.5em;\n",
       "  /* unfitted */\n",
       "  background-color: var(--sklearn-color-unfitted-level-0);\n",
       "}\n",
       "\n",
       "#sk-container-id-1 div.sk-estimator.fitted {\n",
       "  /* fitted */\n",
       "  background-color: var(--sklearn-color-fitted-level-0);\n",
       "}\n",
       "\n",
       "/* on hover */\n",
       "#sk-container-id-1 div.sk-estimator:hover {\n",
       "  /* unfitted */\n",
       "  background-color: var(--sklearn-color-unfitted-level-2);\n",
       "}\n",
       "\n",
       "#sk-container-id-1 div.sk-estimator.fitted:hover {\n",
       "  /* fitted */\n",
       "  background-color: var(--sklearn-color-fitted-level-2);\n",
       "}\n",
       "\n",
       "/* Specification for estimator info (e.g. \"i\" and \"?\") */\n",
       "\n",
       "/* Common style for \"i\" and \"?\" */\n",
       "\n",
       ".sk-estimator-doc-link,\n",
       "a:link.sk-estimator-doc-link,\n",
       "a:visited.sk-estimator-doc-link {\n",
       "  float: right;\n",
       "  font-size: smaller;\n",
       "  line-height: 1em;\n",
       "  font-family: monospace;\n",
       "  background-color: var(--sklearn-color-background);\n",
       "  border-radius: 1em;\n",
       "  height: 1em;\n",
       "  width: 1em;\n",
       "  text-decoration: none !important;\n",
       "  margin-left: 1ex;\n",
       "  /* unfitted */\n",
       "  border: var(--sklearn-color-unfitted-level-1) 1pt solid;\n",
       "  color: var(--sklearn-color-unfitted-level-1);\n",
       "}\n",
       "\n",
       ".sk-estimator-doc-link.fitted,\n",
       "a:link.sk-estimator-doc-link.fitted,\n",
       "a:visited.sk-estimator-doc-link.fitted {\n",
       "  /* fitted */\n",
       "  border: var(--sklearn-color-fitted-level-1) 1pt solid;\n",
       "  color: var(--sklearn-color-fitted-level-1);\n",
       "}\n",
       "\n",
       "/* On hover */\n",
       "div.sk-estimator:hover .sk-estimator-doc-link:hover,\n",
       ".sk-estimator-doc-link:hover,\n",
       "div.sk-label-container:hover .sk-estimator-doc-link:hover,\n",
       ".sk-estimator-doc-link:hover {\n",
       "  /* unfitted */\n",
       "  background-color: var(--sklearn-color-unfitted-level-3);\n",
       "  color: var(--sklearn-color-background);\n",
       "  text-decoration: none;\n",
       "}\n",
       "\n",
       "div.sk-estimator.fitted:hover .sk-estimator-doc-link.fitted:hover,\n",
       ".sk-estimator-doc-link.fitted:hover,\n",
       "div.sk-label-container:hover .sk-estimator-doc-link.fitted:hover,\n",
       ".sk-estimator-doc-link.fitted:hover {\n",
       "  /* fitted */\n",
       "  background-color: var(--sklearn-color-fitted-level-3);\n",
       "  color: var(--sklearn-color-background);\n",
       "  text-decoration: none;\n",
       "}\n",
       "\n",
       "/* Span, style for the box shown on hovering the info icon */\n",
       ".sk-estimator-doc-link span {\n",
       "  display: none;\n",
       "  z-index: 9999;\n",
       "  position: relative;\n",
       "  font-weight: normal;\n",
       "  right: .2ex;\n",
       "  padding: .5ex;\n",
       "  margin: .5ex;\n",
       "  width: min-content;\n",
       "  min-width: 20ex;\n",
       "  max-width: 50ex;\n",
       "  color: var(--sklearn-color-text);\n",
       "  box-shadow: 2pt 2pt 4pt #999;\n",
       "  /* unfitted */\n",
       "  background: var(--sklearn-color-unfitted-level-0);\n",
       "  border: .5pt solid var(--sklearn-color-unfitted-level-3);\n",
       "}\n",
       "\n",
       ".sk-estimator-doc-link.fitted span {\n",
       "  /* fitted */\n",
       "  background: var(--sklearn-color-fitted-level-0);\n",
       "  border: var(--sklearn-color-fitted-level-3);\n",
       "}\n",
       "\n",
       ".sk-estimator-doc-link:hover span {\n",
       "  display: block;\n",
       "}\n",
       "\n",
       "/* \"?\"-specific style due to the `<a>` HTML tag */\n",
       "\n",
       "#sk-container-id-1 a.estimator_doc_link {\n",
       "  float: right;\n",
       "  font-size: 1rem;\n",
       "  line-height: 1em;\n",
       "  font-family: monospace;\n",
       "  background-color: var(--sklearn-color-background);\n",
       "  border-radius: 1rem;\n",
       "  height: 1rem;\n",
       "  width: 1rem;\n",
       "  text-decoration: none;\n",
       "  /* unfitted */\n",
       "  color: var(--sklearn-color-unfitted-level-1);\n",
       "  border: var(--sklearn-color-unfitted-level-1) 1pt solid;\n",
       "}\n",
       "\n",
       "#sk-container-id-1 a.estimator_doc_link.fitted {\n",
       "  /* fitted */\n",
       "  border: var(--sklearn-color-fitted-level-1) 1pt solid;\n",
       "  color: var(--sklearn-color-fitted-level-1);\n",
       "}\n",
       "\n",
       "/* On hover */\n",
       "#sk-container-id-1 a.estimator_doc_link:hover {\n",
       "  /* unfitted */\n",
       "  background-color: var(--sklearn-color-unfitted-level-3);\n",
       "  color: var(--sklearn-color-background);\n",
       "  text-decoration: none;\n",
       "}\n",
       "\n",
       "#sk-container-id-1 a.estimator_doc_link.fitted:hover {\n",
       "  /* fitted */\n",
       "  background-color: var(--sklearn-color-fitted-level-3);\n",
       "}\n",
       "</style><div id=\"sk-container-id-1\" class=\"sk-top-container\"><div class=\"sk-text-repr-fallback\"><pre>LogisticRegression(max_iter=1000)</pre><b>In a Jupyter environment, please rerun this cell to show the HTML representation or trust the notebook. <br />On GitHub, the HTML representation is unable to render, please try loading this page with nbviewer.org.</b></div><div class=\"sk-container\" hidden><div class=\"sk-item\"><div class=\"sk-estimator fitted sk-toggleable\"><input class=\"sk-toggleable__control sk-hidden--visually\" id=\"sk-estimator-id-1\" type=\"checkbox\" checked><label for=\"sk-estimator-id-1\" class=\"sk-toggleable__label fitted sk-toggleable__label-arrow fitted\">&nbsp;&nbsp;LogisticRegression<a class=\"sk-estimator-doc-link fitted\" rel=\"noreferrer\" target=\"_blank\" href=\"https://scikit-learn.org/1.5/modules/generated/sklearn.linear_model.LogisticRegression.html\">?<span>Documentation for LogisticRegression</span></a><span class=\"sk-estimator-doc-link fitted\">i<span>Fitted</span></span></label><div class=\"sk-toggleable__content fitted\"><pre>LogisticRegression(max_iter=1000)</pre></div> </div></div></div></div>"
      ],
      "text/plain": [
       "LogisticRegression(max_iter=1000)"
      ]
     },
     "execution_count": 69,
     "metadata": {},
     "output_type": "execute_result"
    }
   ],
   "source": [
    "# Train logistic regression on the full training data\n",
    "log_reg_full = LogisticRegression(penalty='l2', solver='lbfgs', max_iter=1000)\n",
    "log_reg_full.fit(X_full_train, y_full_train)"
   ]
  },
  {
   "cell_type": "code",
   "execution_count": 70,
   "id": "fccdf604-ca9f-4eb6-a19b-145588a4ba95",
   "metadata": {},
   "outputs": [],
   "source": [
    "y_test_pred = log_reg_full.predict(X_test) "
   ]
  },
  {
   "cell_type": "code",
   "execution_count": 72,
   "id": "9adfa03c-7262-4a9c-8551-010d6e5697af",
   "metadata": {},
   "outputs": [],
   "source": [
    "\n",
    "submission = pd.DataFrame({\n",
    "    'id': test_data['id'],\n",
    "    'target': y_test_pred})\n",
    "\n",
    "\n",
    "submission.to_csv('submission.csv', index=False)"
   ]
  },
  {
   "cell_type": "code",
   "execution_count": null,
   "id": "539a2d0e-bc5e-493d-9463-f7b315df3604",
   "metadata": {},
   "outputs": [],
   "source": []
  }
 ],
 "metadata": {
  "kernelspec": {
   "display_name": "Python 3 (ipykernel)",
   "language": "python",
   "name": "python3"
  },
  "language_info": {
   "codemirror_mode": {
    "name": "ipython",
    "version": 3
   },
   "file_extension": ".py",
   "mimetype": "text/x-python",
   "name": "python",
   "nbconvert_exporter": "python",
   "pygments_lexer": "ipython3",
   "version": "3.12.0"
  }
 },
 "nbformat": 4,
 "nbformat_minor": 5
}
