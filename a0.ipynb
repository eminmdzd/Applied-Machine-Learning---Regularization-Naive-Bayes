{
  "cells": [
    {
      "cell_type": "markdown",
      "metadata": {
        "id": "view-in-github",
        "colab_type": "text"
      },
      "source": [
        "<a href=\"https://colab.research.google.com/github/eminmdzd/Applied-Machine-Learning---Regularization-Naive-Bayes/blob/main/a0.ipynb\" target=\"_parent\"><img src=\"https://colab.research.google.com/assets/colab-badge.svg\" alt=\"Open In Colab\"/></a>"
      ]
    },
    {
      "cell_type": "markdown",
      "metadata": {
        "id": "7irm-4sk8Ffa"
      },
      "source": [
        "##Git and Drive Integration"
      ]
    },
    {
      "cell_type": "code",
      "execution_count": 2,
      "metadata": {
        "id": "FJny0Nxk8IuJ"
      },
      "outputs": [],
      "source": [
        "from __future__ import print_function\n",
        "import argparse\n",
        "import torch\n",
        "import torch.nn as nn\n",
        "import torch.nn.functional as F\n",
        "import torch.optim as optim\n",
        "from torchvision import datasets, transforms\n",
        "from torch.optim.lr_scheduler import StepLR\n",
        "import time"
      ]
    },
    {
      "cell_type": "markdown",
      "metadata": {
        "id": "WERRgUiQLkgH"
      },
      "source": [
        "### Mount google drive"
      ]
    },
    {
      "cell_type": "code",
      "execution_count": 3,
      "metadata": {
        "id": "1ReJf67OJUzd",
        "colab": {
          "base_uri": "https://localhost:8080/"
        },
        "outputId": "4ac6f520-fb30-4da9-df6b-819be4ccd343"
      },
      "outputs": [
        {
          "output_type": "stream",
          "name": "stdout",
          "text": [
            "Mounted at /content/gdrive\n"
          ]
        }
      ],
      "source": [
        "# Mount google drive to use a persistent directory structure\n",
        "from google.colab import drive\n",
        "drive.mount('/content/gdrive')"
      ]
    },
    {
      "cell_type": "markdown",
      "metadata": {
        "id": "dOUJ-qFnLqw7"
      },
      "source": [
        "### Clone the assignment repository"
      ]
    },
    {
      "cell_type": "code",
      "execution_count": 4,
      "metadata": {
        "id": "PZpt4K8HJ86p",
        "colab": {
          "base_uri": "https://localhost:8080/"
        },
        "outputId": "44a3ddb2-7714-4ea0-b9ee-089bc5e2df8e"
      },
      "outputs": [
        {
          "output_type": "stream",
          "name": "stdout",
          "text": [
            "mkdir: cannot create directory ‘/content/gdrive/MyDrive/ece5545’: File exists\n",
            "/content/gdrive/MyDrive/ece5545\n"
          ]
        }
      ],
      "source": [
        "# Create a directory for the course\n",
        "%mkdir /content/gdrive/MyDrive/ece5545\n",
        "%cd /content/gdrive/MyDrive/ece5545\n",
        "\n",
        "# Create files to hold your Github token and username.\n",
        "!echo 'TOKEN' > /content/gdrive/MyDrive/ece5545/token.txt\n",
        "!echo 'USERNAME' > /content/gdrive/MyDrive/ece5545/git_username.txt\n",
        "\n",
        "# TODO: Navigate to the created files and replace the contents with your token and username.\n",
        "# Do NOT place your token inside of the notebook. This way there is no risk that you will push it to your repo.\n",
        "# Never share your token with anyone, it is basically your github password!"
      ]
    },
    {
      "cell_type": "code",
      "execution_count": 5,
      "metadata": {
        "id": "HYlfRwGiv8H-",
        "colab": {
          "base_uri": "https://localhost:8080/"
        },
        "outputId": "53c47009-98a9-4922-baef-36ec83b38d35"
      },
      "outputs": [
        {
          "output_type": "stream",
          "name": "stdout",
          "text": [
            "fatal: destination path 'a0' already exists and is not an empty directory.\n"
          ]
        }
      ],
      "source": [
        "with open('/content/gdrive/MyDrive/ece5545/token.txt') as f:\n",
        "    token = f.readline().strip()\n",
        "# Use another file to store your github username\n",
        "with open('/content/gdrive/MyDrive/ece5545/git_username.txt') as f:\n",
        "    handle = f.readline().strip()\n",
        "\n",
        "YOUR_TOKEN = token\n",
        "YOUR_HANDLE = handle\n",
        "\n",
        "!git clone https://{YOUR_TOKEN}@github.com/ML-HW-SYS/a0-{YOUR_HANDLE}.git a0"
      ]
    },
    {
      "cell_type": "markdown",
      "metadata": {
        "id": "eCOS6gDnLvzr"
      },
      "source": [
        "### Add `src` directory to the Python import path"
      ]
    },
    {
      "cell_type": "code",
      "execution_count": 6,
      "metadata": {
        "id": "tZAlavR7KzQ8"
      },
      "outputs": [],
      "source": [
        "# import functions from the src directory in repo\n",
        "import sys\n",
        "sys.path.insert(0, '/content/gdrive/MyDrive/ece5545/a0/src')"
      ]
    },
    {
      "cell_type": "markdown",
      "metadata": {
        "id": "2xC-uqgYL3n9"
      },
      "source": [
        "### Import functions from `src/train_utils.py`"
      ]
    },
    {
      "cell_type": "code",
      "execution_count": 7,
      "metadata": {
        "id": "4We44OWFLF-1"
      },
      "outputs": [],
      "source": [
        "import train_utils\n",
        "from model import *"
      ]
    },
    {
      "cell_type": "markdown",
      "metadata": {
        "id": "hnu4vIr8QJKR"
      },
      "source": [
        "### Make changes to `src` files and push to repo"
      ]
    },
    {
      "cell_type": "code",
      "execution_count": 8,
      "metadata": {
        "id": "CtH2Xy7TQRq7"
      },
      "outputs": [],
      "source": [
        "# You will likely need to set your git user identification settings\n",
        "!git config --global user.email \"em876@cornell.edu\"  # update with your email\n",
        "!git config --global user.name \"Emin Mamedzade\"   # update with your name"
      ]
    },
    {
      "cell_type": "code",
      "execution_count": 9,
      "metadata": {
        "id": "8IEDZpwTdF_z",
        "colab": {
          "base_uri": "https://localhost:8080/"
        },
        "outputId": "c8907ed9-cf49-41fe-a9bf-1d27882f4fa8"
      },
      "outputs": [
        {
          "output_type": "stream",
          "name": "stdout",
          "text": [
            "/content/gdrive/MyDrive/ece5545/a0\n",
            "\u001b[1m======================================= test session starts ========================================\u001b[0m\n",
            "platform linux -- Python 3.11.11, pytest-8.3.4, pluggy-1.5.0\n",
            "rootdir: /content/gdrive/MyDrive/ece5545/a0\n",
            "plugins: anyio-3.7.1, langsmith-0.3.2, typeguard-4.4.1\n",
            "collected 1 item                                                                                   \u001b[0m\n",
            "\n",
            "tests/test_model.py \u001b[32m.\u001b[0m\u001b[32m                                                                        [100%]\u001b[0m\n",
            "\n",
            "\u001b[32m======================================== \u001b[32m\u001b[1m1 passed\u001b[0m\u001b[32m in 6.34s\u001b[0m\u001b[32m =========================================\u001b[0m\n"
          ]
        }
      ],
      "source": [
        "# To run the same tests that are run on Github Classroom\n",
        "%cd /content/gdrive/MyDrive/ece5545/a0\n",
        "!python3 -m pytest"
      ]
    },
    {
      "cell_type": "code",
      "execution_count": 10,
      "metadata": {
        "id": "BfekNg28QJXK",
        "colab": {
          "base_uri": "https://localhost:8080/"
        },
        "outputId": "793b1d6a-1b3e-47c8-c318-e3869f50359c"
      },
      "outputs": [
        {
          "output_type": "stream",
          "name": "stdout",
          "text": [
            "/content/gdrive/MyDrive/ece5545/a0/src\n",
            "^C\n",
            "Everything up-to-date\n"
          ]
        }
      ],
      "source": [
        "%cd /content/gdrive/MyDrive/ece5545/a0/src\n",
        "# Navigate to a0/src/model.py and fix the bug (denoted by TODO)\n",
        "# in the file then commit the changes below\n",
        "!git commit -am \"fixed bug in model.py\"\n",
        "!git push"
      ]
    },
    {
      "cell_type": "markdown",
      "metadata": {
        "id": "S4U_ErcR8jm4"
      },
      "source": [
        "## Training Configuration"
      ]
    },
    {
      "cell_type": "code",
      "execution_count": 11,
      "metadata": {
        "id": "48UjE1Ub8miw"
      },
      "outputs": [],
      "source": [
        "batch_size = 128\n",
        "epochs = 5\n",
        "lr = 1.0\n",
        "gamma = 0.7\n",
        "# cuda flag\n",
        "no_cuda = True\n",
        "seed = 42\n",
        "log_interval = 50\n",
        "save_model = False\n",
        "dry_run = False\n",
        "\n",
        "# Derived parameters\n",
        "use_cuda = not no_cuda and torch.cuda.is_available()\n",
        "torch.manual_seed(seed)\n",
        "\n",
        "# switched between cuda and cpu\n",
        "device = torch.device(\"cuda\" if use_cuda else \"cpu\")\n",
        "\n",
        "train_kwargs = {'batch_size': batch_size}\n",
        "test_kwargs = {'batch_size': batch_size}\n",
        "if use_cuda:\n",
        "    cuda_kwargs = {'num_workers': 1,\n",
        "                   'pin_memory': True,\n",
        "                   'shuffle': True}\n",
        "    train_kwargs.update(cuda_kwargs)\n",
        "    test_kwargs.update(cuda_kwargs)"
      ]
    },
    {
      "cell_type": "markdown",
      "metadata": {
        "id": "8Op3rAAv8r6y"
      },
      "source": [
        "## Data Loaders and Optimizer Setup"
      ]
    },
    {
      "cell_type": "code",
      "execution_count": 12,
      "metadata": {
        "id": "bwFBxzFA8yy8"
      },
      "outputs": [],
      "source": [
        "transform=transforms.Compose([\n",
        "    transforms.ToTensor(),\n",
        "    transforms.Normalize((0.1307,), (0.3081,))\n",
        "    ])\n",
        "dataset1 = datasets.MNIST('/content/gdrive/MyDrive/ece5545/data', train=True, download=True,\n",
        "                    transform=transform)\n",
        "dataset2 = datasets.MNIST('/content/gdrive/MyDrive/ece5545/data', train=False,\n",
        "                       transform=transform)\n",
        "train_loader = torch.utils.data.DataLoader(dataset1,**train_kwargs)\n",
        "test_loader = torch.utils.data.DataLoader(dataset2, **test_kwargs)\n",
        "\n",
        "model = Net().to(device)\n",
        "optimizer = optim.Adadelta(model.parameters(), lr=lr)\n",
        "\n",
        "scheduler = StepLR(optimizer, step_size=1, gamma=gamma)"
      ]
    },
    {
      "cell_type": "code",
      "source": [
        "# Updated batch sizes\n",
        "\n",
        "import importlib\n",
        "importlib.reload(train_utils)\n",
        "\n",
        "\n",
        "import time\n",
        "import matplotlib.pyplot as plt\n",
        "\n",
        "# Define a list of batch sizes to test\n",
        "batch_sizes = [32, 64, 128, 256, 512]\n",
        "\n",
        "# Initialize lists to store the time taken for each batch size on CPU and GPU\n",
        "cpu_times = [1058.08, 882.32, 883.55, 988.93, 1115.82]\n",
        "gpu_times = []\n",
        "\n",
        "# Training configuration\n",
        "epochs = 5\n",
        "lr = 1.0\n",
        "gamma = 0.7\n",
        "seed = 42\n",
        "log_interval = 50\n",
        "save_model = False\n",
        "dry_run = False\n",
        "\n",
        "# Function to train the model and measure time\n",
        "def train_and_measure_time(device, batch_size):\n",
        "    torch.manual_seed(seed)\n",
        "    train_kwargs = {'batch_size': batch_size}\n",
        "    test_kwargs = {'batch_size': batch_size}\n",
        "    if device == \"cuda\":\n",
        "        cuda_kwargs = {'num_workers': 1, 'pin_memory': True, 'shuffle': True}\n",
        "        train_kwargs.update(cuda_kwargs)\n",
        "        test_kwargs.update(cuda_kwargs)\n",
        "\n",
        "    transform = transforms.Compose([\n",
        "        transforms.ToTensor(),\n",
        "        transforms.Normalize((0.1307,), (0.3081,))\n",
        "    ])\n",
        "    dataset1 = datasets.MNIST('/content/gdrive/MyDrive/ece5545/data', train=True, download=True, transform=transform)\n",
        "    dataset2 = datasets.MNIST('/content/gdrive/MyDrive/ece5545/data', train=False, transform=transform)\n",
        "    train_loader = torch.utils.data.DataLoader(dataset1, **train_kwargs)\n",
        "    test_loader = torch.utils.data.DataLoader(dataset2, **test_kwargs)\n",
        "\n",
        "    model = Net().to(device)\n",
        "    optimizer = optim.Adadelta(model.parameters(), lr=lr)\n",
        "    scheduler = StepLR(optimizer, step_size=1, gamma=gamma)\n",
        "\n",
        "    start_time = time.time()\n",
        "    for epoch in range(1, epochs + 1):\n",
        "        train_utils.train(model, device, train_loader, optimizer, epoch, log_interval, dry_run)\n",
        "        train_utils.test(model, device, test_loader)\n",
        "        scheduler.step()\n",
        "    end_time = time.time()\n",
        "\n",
        "    return end_time - start_time\n",
        "\n",
        "# # Measure time for CPU\n",
        "# device = torch.device(\"cpu\")\n",
        "# for batch_size in batch_sizes:\n",
        "#     time_taken = train_and_measure_time(device, batch_size)\n",
        "#     cpu_times.append(time_taken)\n",
        "#     print(f\"CPU - Batch Size: {batch_size}, Time Taken: {time_taken:.2f} seconds\")\n",
        "\n",
        "# Measure time for GPU\n",
        "device = torch.device(\"cuda\")\n",
        "for batch_size in batch_sizes:\n",
        "    time_taken = train_and_measure_time(device, batch_size)\n",
        "    gpu_times.append(time_taken)\n",
        "    print(f\"GPU - Batch Size: {batch_size}, Time Taken: {time_taken:.2f} seconds\")\n",
        "\n",
        "# Plot the results\n",
        "plt.figure(figsize=(10, 6))\n",
        "plt.plot(batch_sizes, cpu_times, label='CPU', marker='o')\n",
        "plt.plot(batch_sizes, gpu_times, label='GPU', marker='o')\n",
        "plt.xlabel('Batch Size')\n",
        "plt.ylabel('Time per Epoch (seconds)')\n",
        "plt.title('Training Time per Epoch vs Batch Size')\n",
        "plt.legend()\n",
        "plt.grid(True)\n",
        "plt.show()"
      ],
      "metadata": {
        "colab": {
          "base_uri": "https://localhost:8080/",
          "height": 1000
        },
        "id": "aG3NMVmzWlM-",
        "outputId": "fab0a505-572f-41c2-e56e-9801a86161a5"
      },
      "execution_count": 13,
      "outputs": [
        {
          "output_type": "stream",
          "name": "stdout",
          "text": [
            "Train Epoch: 1 [0/60000 (0%)]\tLoss: 2.325583\n",
            "Train Epoch: 1 [1600/60000 (3%)]\tLoss: 0.392409\n",
            "Train Epoch: 1 [3200/60000 (5%)]\tLoss: 0.416211\n",
            "Train Epoch: 1 [4800/60000 (8%)]\tLoss: 0.212256\n",
            "Train Epoch: 1 [6400/60000 (11%)]\tLoss: 0.126978\n",
            "Train Epoch: 1 [8000/60000 (13%)]\tLoss: 0.233047\n",
            "Train Epoch: 1 [9600/60000 (16%)]\tLoss: 0.061988\n",
            "Train Epoch: 1 [11200/60000 (19%)]\tLoss: 0.300714\n",
            "Train Epoch: 1 [12800/60000 (21%)]\tLoss: 0.106217\n",
            "Train Epoch: 1 [14400/60000 (24%)]\tLoss: 0.105495\n",
            "Train Epoch: 1 [16000/60000 (27%)]\tLoss: 0.188132\n",
            "Train Epoch: 1 [17600/60000 (29%)]\tLoss: 0.092725\n",
            "Train Epoch: 1 [19200/60000 (32%)]\tLoss: 0.107890\n",
            "Train Epoch: 1 [20800/60000 (35%)]\tLoss: 0.034718\n",
            "Train Epoch: 1 [22400/60000 (37%)]\tLoss: 0.085291\n",
            "Train Epoch: 1 [24000/60000 (40%)]\tLoss: 0.049568\n",
            "Train Epoch: 1 [25600/60000 (43%)]\tLoss: 0.066630\n",
            "Train Epoch: 1 [27200/60000 (45%)]\tLoss: 0.193480\n",
            "Train Epoch: 1 [28800/60000 (48%)]\tLoss: 0.096180\n",
            "Train Epoch: 1 [30400/60000 (51%)]\tLoss: 0.193055\n",
            "Train Epoch: 1 [32000/60000 (53%)]\tLoss: 0.199632\n",
            "Train Epoch: 1 [33600/60000 (56%)]\tLoss: 0.141066\n",
            "Train Epoch: 1 [35200/60000 (59%)]\tLoss: 0.011267\n",
            "Train Epoch: 1 [36800/60000 (61%)]\tLoss: 0.033931\n",
            "Train Epoch: 1 [38400/60000 (64%)]\tLoss: 0.219788\n",
            "Train Epoch: 1 [40000/60000 (67%)]\tLoss: 0.070308\n",
            "Train Epoch: 1 [41600/60000 (69%)]\tLoss: 0.148411\n",
            "Train Epoch: 1 [43200/60000 (72%)]\tLoss: 0.159970\n",
            "Train Epoch: 1 [44800/60000 (75%)]\tLoss: 0.035696\n",
            "Train Epoch: 1 [46400/60000 (77%)]\tLoss: 0.196230\n",
            "Train Epoch: 1 [48000/60000 (80%)]\tLoss: 0.078575\n",
            "Train Epoch: 1 [49600/60000 (83%)]\tLoss: 0.121908\n",
            "Train Epoch: 1 [51200/60000 (85%)]\tLoss: 0.062752\n",
            "Train Epoch: 1 [52800/60000 (88%)]\tLoss: 0.440102\n",
            "Train Epoch: 1 [54400/60000 (91%)]\tLoss: 0.014612\n",
            "Train Epoch: 1 [56000/60000 (93%)]\tLoss: 0.144909\n",
            "Train Epoch: 1 [57600/60000 (96%)]\tLoss: 0.061043\n",
            "Train Epoch: 1 [59200/60000 (99%)]\tLoss: 0.008685\n",
            "\n",
            "Epoch 1 time = 16.62s on device cuda\n",
            "\n",
            "Test set: Average loss: 0.0552, Accuracy: 9819/10000 (98%)\n",
            "\n",
            "Train Epoch: 2 [0/60000 (0%)]\tLoss: 0.022010\n",
            "Train Epoch: 2 [1600/60000 (3%)]\tLoss: 0.260709\n",
            "Train Epoch: 2 [3200/60000 (5%)]\tLoss: 0.131270\n",
            "Train Epoch: 2 [4800/60000 (8%)]\tLoss: 0.010784\n",
            "Train Epoch: 2 [6400/60000 (11%)]\tLoss: 0.057032\n",
            "Train Epoch: 2 [8000/60000 (13%)]\tLoss: 0.103323\n",
            "Train Epoch: 2 [9600/60000 (16%)]\tLoss: 0.048795\n",
            "Train Epoch: 2 [11200/60000 (19%)]\tLoss: 0.032242\n",
            "Train Epoch: 2 [12800/60000 (21%)]\tLoss: 0.140130\n",
            "Train Epoch: 2 [14400/60000 (24%)]\tLoss: 0.051282\n",
            "Train Epoch: 2 [16000/60000 (27%)]\tLoss: 0.042017\n",
            "Train Epoch: 2 [17600/60000 (29%)]\tLoss: 0.002455\n",
            "Train Epoch: 2 [19200/60000 (32%)]\tLoss: 0.023801\n",
            "Train Epoch: 2 [20800/60000 (35%)]\tLoss: 0.029836\n",
            "Train Epoch: 2 [22400/60000 (37%)]\tLoss: 0.073522\n",
            "Train Epoch: 2 [24000/60000 (40%)]\tLoss: 0.006764\n",
            "Train Epoch: 2 [25600/60000 (43%)]\tLoss: 0.061098\n",
            "Train Epoch: 2 [27200/60000 (45%)]\tLoss: 0.016399\n",
            "Train Epoch: 2 [28800/60000 (48%)]\tLoss: 0.022193\n",
            "Train Epoch: 2 [30400/60000 (51%)]\tLoss: 0.052283\n",
            "Train Epoch: 2 [32000/60000 (53%)]\tLoss: 0.092226\n",
            "Train Epoch: 2 [33600/60000 (56%)]\tLoss: 0.079930\n",
            "Train Epoch: 2 [35200/60000 (59%)]\tLoss: 0.127402\n",
            "Train Epoch: 2 [36800/60000 (61%)]\tLoss: 0.045213\n",
            "Train Epoch: 2 [38400/60000 (64%)]\tLoss: 0.170449\n",
            "Train Epoch: 2 [40000/60000 (67%)]\tLoss: 0.020685\n",
            "Train Epoch: 2 [41600/60000 (69%)]\tLoss: 0.023252\n",
            "Train Epoch: 2 [43200/60000 (72%)]\tLoss: 0.088664\n",
            "Train Epoch: 2 [44800/60000 (75%)]\tLoss: 0.009143\n",
            "Train Epoch: 2 [46400/60000 (77%)]\tLoss: 0.124549\n",
            "Train Epoch: 2 [48000/60000 (80%)]\tLoss: 0.036301\n",
            "Train Epoch: 2 [49600/60000 (83%)]\tLoss: 0.018428\n",
            "Train Epoch: 2 [51200/60000 (85%)]\tLoss: 0.008563\n",
            "Train Epoch: 2 [52800/60000 (88%)]\tLoss: 0.429563\n",
            "Train Epoch: 2 [54400/60000 (91%)]\tLoss: 0.004206\n",
            "Train Epoch: 2 [56000/60000 (93%)]\tLoss: 0.022928\n",
            "Train Epoch: 2 [57600/60000 (96%)]\tLoss: 0.045425\n",
            "Train Epoch: 2 [59200/60000 (99%)]\tLoss: 0.000425\n",
            "\n",
            "Epoch 2 time = 16.65s on device cuda\n",
            "\n",
            "Test set: Average loss: 0.0413, Accuracy: 9863/10000 (99%)\n",
            "\n",
            "Train Epoch: 3 [0/60000 (0%)]\tLoss: 0.005793\n",
            "Train Epoch: 3 [1600/60000 (3%)]\tLoss: 0.466582\n",
            "Train Epoch: 3 [3200/60000 (5%)]\tLoss: 0.097821\n",
            "Train Epoch: 3 [4800/60000 (8%)]\tLoss: 0.003035\n",
            "Train Epoch: 3 [6400/60000 (11%)]\tLoss: 0.009034\n",
            "Train Epoch: 3 [8000/60000 (13%)]\tLoss: 0.011676\n",
            "Train Epoch: 3 [9600/60000 (16%)]\tLoss: 0.019297\n",
            "Train Epoch: 3 [11200/60000 (19%)]\tLoss: 0.121870\n",
            "Train Epoch: 3 [12800/60000 (21%)]\tLoss: 0.007564\n",
            "Train Epoch: 3 [14400/60000 (24%)]\tLoss: 0.008485\n",
            "Train Epoch: 3 [16000/60000 (27%)]\tLoss: 0.027248\n",
            "Train Epoch: 3 [17600/60000 (29%)]\tLoss: 0.016657\n",
            "Train Epoch: 3 [19200/60000 (32%)]\tLoss: 0.014797\n",
            "Train Epoch: 3 [20800/60000 (35%)]\tLoss: 0.084337\n",
            "Train Epoch: 3 [22400/60000 (37%)]\tLoss: 0.005144\n",
            "Train Epoch: 3 [24000/60000 (40%)]\tLoss: 0.023590\n",
            "Train Epoch: 3 [25600/60000 (43%)]\tLoss: 0.025927\n",
            "Train Epoch: 3 [27200/60000 (45%)]\tLoss: 0.066642\n",
            "Train Epoch: 3 [28800/60000 (48%)]\tLoss: 0.002292\n",
            "Train Epoch: 3 [30400/60000 (51%)]\tLoss: 0.002185\n",
            "Train Epoch: 3 [32000/60000 (53%)]\tLoss: 0.037057\n",
            "Train Epoch: 3 [33600/60000 (56%)]\tLoss: 0.067151\n",
            "Train Epoch: 3 [35200/60000 (59%)]\tLoss: 0.006618\n",
            "Train Epoch: 3 [36800/60000 (61%)]\tLoss: 0.109688\n",
            "Train Epoch: 3 [38400/60000 (64%)]\tLoss: 0.123492\n",
            "Train Epoch: 3 [40000/60000 (67%)]\tLoss: 0.035103\n",
            "Train Epoch: 3 [41600/60000 (69%)]\tLoss: 0.054225\n",
            "Train Epoch: 3 [43200/60000 (72%)]\tLoss: 0.088335\n",
            "Train Epoch: 3 [44800/60000 (75%)]\tLoss: 0.043005\n",
            "Train Epoch: 3 [46400/60000 (77%)]\tLoss: 0.034317\n",
            "Train Epoch: 3 [48000/60000 (80%)]\tLoss: 0.029492\n",
            "Train Epoch: 3 [49600/60000 (83%)]\tLoss: 0.001836\n",
            "Train Epoch: 3 [51200/60000 (85%)]\tLoss: 0.035525\n",
            "Train Epoch: 3 [52800/60000 (88%)]\tLoss: 0.083362\n",
            "Train Epoch: 3 [54400/60000 (91%)]\tLoss: 0.000740\n",
            "Train Epoch: 3 [56000/60000 (93%)]\tLoss: 0.031099\n",
            "Train Epoch: 3 [57600/60000 (96%)]\tLoss: 0.055559\n",
            "Train Epoch: 3 [59200/60000 (99%)]\tLoss: 0.000308\n",
            "\n",
            "Epoch 3 time = 15.58s on device cuda\n",
            "\n",
            "Test set: Average loss: 0.0345, Accuracy: 9888/10000 (99%)\n",
            "\n",
            "Train Epoch: 4 [0/60000 (0%)]\tLoss: 0.006912\n",
            "Train Epoch: 4 [1600/60000 (3%)]\tLoss: 0.446234\n",
            "Train Epoch: 4 [3200/60000 (5%)]\tLoss: 0.006105\n",
            "Train Epoch: 4 [4800/60000 (8%)]\tLoss: 0.005606\n",
            "Train Epoch: 4 [6400/60000 (11%)]\tLoss: 0.094696\n",
            "Train Epoch: 4 [8000/60000 (13%)]\tLoss: 0.005002\n",
            "Train Epoch: 4 [9600/60000 (16%)]\tLoss: 0.004684\n",
            "Train Epoch: 4 [11200/60000 (19%)]\tLoss: 0.102740\n",
            "Train Epoch: 4 [12800/60000 (21%)]\tLoss: 0.049409\n",
            "Train Epoch: 4 [14400/60000 (24%)]\tLoss: 0.003540\n",
            "Train Epoch: 4 [16000/60000 (27%)]\tLoss: 0.022072\n",
            "Train Epoch: 4 [17600/60000 (29%)]\tLoss: 0.003241\n",
            "Train Epoch: 4 [19200/60000 (32%)]\tLoss: 0.002200\n",
            "Train Epoch: 4 [20800/60000 (35%)]\tLoss: 0.080479\n",
            "Train Epoch: 4 [22400/60000 (37%)]\tLoss: 0.000515\n",
            "Train Epoch: 4 [24000/60000 (40%)]\tLoss: 0.002079\n",
            "Train Epoch: 4 [25600/60000 (43%)]\tLoss: 0.017152\n",
            "Train Epoch: 4 [27200/60000 (45%)]\tLoss: 0.055459\n",
            "Train Epoch: 4 [28800/60000 (48%)]\tLoss: 0.030067\n",
            "Train Epoch: 4 [30400/60000 (51%)]\tLoss: 0.000428\n",
            "Train Epoch: 4 [32000/60000 (53%)]\tLoss: 0.014636\n",
            "Train Epoch: 4 [33600/60000 (56%)]\tLoss: 0.005610\n",
            "Train Epoch: 4 [35200/60000 (59%)]\tLoss: 0.037646\n",
            "Train Epoch: 4 [36800/60000 (61%)]\tLoss: 0.009636\n",
            "Train Epoch: 4 [38400/60000 (64%)]\tLoss: 0.085163\n",
            "Train Epoch: 4 [40000/60000 (67%)]\tLoss: 0.008135\n",
            "Train Epoch: 4 [41600/60000 (69%)]\tLoss: 0.004364\n",
            "Train Epoch: 4 [43200/60000 (72%)]\tLoss: 0.015335\n",
            "Train Epoch: 4 [44800/60000 (75%)]\tLoss: 0.004150\n",
            "Train Epoch: 4 [46400/60000 (77%)]\tLoss: 0.116028\n",
            "Train Epoch: 4 [48000/60000 (80%)]\tLoss: 0.125830\n",
            "Train Epoch: 4 [49600/60000 (83%)]\tLoss: 0.005742\n",
            "Train Epoch: 4 [51200/60000 (85%)]\tLoss: 0.028352\n",
            "Train Epoch: 4 [52800/60000 (88%)]\tLoss: 0.106678\n",
            "Train Epoch: 4 [54400/60000 (91%)]\tLoss: 0.000835\n",
            "Train Epoch: 4 [56000/60000 (93%)]\tLoss: 0.009335\n",
            "Train Epoch: 4 [57600/60000 (96%)]\tLoss: 0.048580\n",
            "Train Epoch: 4 [59200/60000 (99%)]\tLoss: 0.005685\n",
            "\n",
            "Epoch 4 time = 15.58s on device cuda\n",
            "\n",
            "Test set: Average loss: 0.0334, Accuracy: 9897/10000 (99%)\n",
            "\n",
            "Train Epoch: 5 [0/60000 (0%)]\tLoss: 0.003426\n",
            "Train Epoch: 5 [1600/60000 (3%)]\tLoss: 0.074196\n",
            "Train Epoch: 5 [3200/60000 (5%)]\tLoss: 0.083316\n",
            "Train Epoch: 5 [4800/60000 (8%)]\tLoss: 0.003052\n",
            "Train Epoch: 5 [6400/60000 (11%)]\tLoss: 0.214106\n",
            "Train Epoch: 5 [8000/60000 (13%)]\tLoss: 0.015001\n",
            "Train Epoch: 5 [9600/60000 (16%)]\tLoss: 0.012377\n",
            "Train Epoch: 5 [11200/60000 (19%)]\tLoss: 0.008446\n",
            "Train Epoch: 5 [12800/60000 (21%)]\tLoss: 0.011495\n",
            "Train Epoch: 5 [14400/60000 (24%)]\tLoss: 0.004770\n",
            "Train Epoch: 5 [16000/60000 (27%)]\tLoss: 0.030409\n",
            "Train Epoch: 5 [17600/60000 (29%)]\tLoss: 0.009717\n",
            "Train Epoch: 5 [19200/60000 (32%)]\tLoss: 0.019345\n",
            "Train Epoch: 5 [20800/60000 (35%)]\tLoss: 0.053341\n",
            "Train Epoch: 5 [22400/60000 (37%)]\tLoss: 0.000676\n",
            "Train Epoch: 5 [24000/60000 (40%)]\tLoss: 0.033361\n",
            "Train Epoch: 5 [25600/60000 (43%)]\tLoss: 0.087420\n",
            "Train Epoch: 5 [27200/60000 (45%)]\tLoss: 0.020241\n",
            "Train Epoch: 5 [28800/60000 (48%)]\tLoss: 0.000613\n",
            "Train Epoch: 5 [30400/60000 (51%)]\tLoss: 0.011610\n",
            "Train Epoch: 5 [32000/60000 (53%)]\tLoss: 0.021694\n",
            "Train Epoch: 5 [33600/60000 (56%)]\tLoss: 0.004512\n",
            "Train Epoch: 5 [35200/60000 (59%)]\tLoss: 0.051272\n",
            "Train Epoch: 5 [36800/60000 (61%)]\tLoss: 0.016603\n",
            "Train Epoch: 5 [38400/60000 (64%)]\tLoss: 0.087281\n",
            "Train Epoch: 5 [40000/60000 (67%)]\tLoss: 0.027965\n",
            "Train Epoch: 5 [41600/60000 (69%)]\tLoss: 0.050676\n",
            "Train Epoch: 5 [43200/60000 (72%)]\tLoss: 0.032643\n",
            "Train Epoch: 5 [44800/60000 (75%)]\tLoss: 0.003388\n",
            "Train Epoch: 5 [46400/60000 (77%)]\tLoss: 0.075925\n",
            "Train Epoch: 5 [48000/60000 (80%)]\tLoss: 0.027000\n",
            "Train Epoch: 5 [49600/60000 (83%)]\tLoss: 0.002894\n",
            "Train Epoch: 5 [51200/60000 (85%)]\tLoss: 0.033726\n",
            "Train Epoch: 5 [52800/60000 (88%)]\tLoss: 0.144929\n",
            "Train Epoch: 5 [54400/60000 (91%)]\tLoss: 0.000522\n",
            "Train Epoch: 5 [56000/60000 (93%)]\tLoss: 0.069740\n",
            "Train Epoch: 5 [57600/60000 (96%)]\tLoss: 0.011858\n",
            "Train Epoch: 5 [59200/60000 (99%)]\tLoss: 0.001152\n",
            "\n",
            "Epoch 5 time = 15.63s on device cuda\n",
            "\n",
            "Test set: Average loss: 0.0369, Accuracy: 9884/10000 (99%)\n",
            "\n",
            "GPU - Batch Size: 32, Time Taken: 91.88 seconds\n",
            "Train Epoch: 1 [0/60000 (0%)]\tLoss: 2.318482\n",
            "Train Epoch: 1 [3200/60000 (5%)]\tLoss: 0.431929\n",
            "Train Epoch: 1 [6400/60000 (11%)]\tLoss: 0.227801\n",
            "Train Epoch: 1 [9600/60000 (16%)]\tLoss: 0.147457\n",
            "Train Epoch: 1 [12800/60000 (21%)]\tLoss: 0.136758\n",
            "Train Epoch: 1 [16000/60000 (27%)]\tLoss: 0.284671\n",
            "Train Epoch: 1 [19200/60000 (32%)]\tLoss: 0.301375\n",
            "Train Epoch: 1 [22400/60000 (37%)]\tLoss: 0.046145\n",
            "Train Epoch: 1 [25600/60000 (43%)]\tLoss: 0.171839\n",
            "Train Epoch: 1 [28800/60000 (48%)]\tLoss: 0.087899\n",
            "Train Epoch: 1 [32000/60000 (53%)]\tLoss: 0.159879\n",
            "Train Epoch: 1 [35200/60000 (59%)]\tLoss: 0.247822\n",
            "Train Epoch: 1 [38400/60000 (64%)]\tLoss: 0.094310\n",
            "Train Epoch: 1 [41600/60000 (69%)]\tLoss: 0.102082\n",
            "Train Epoch: 1 [44800/60000 (75%)]\tLoss: 0.151992\n",
            "Train Epoch: 1 [48000/60000 (80%)]\tLoss: 0.116968\n",
            "Train Epoch: 1 [51200/60000 (85%)]\tLoss: 0.184371\n",
            "Train Epoch: 1 [54400/60000 (91%)]\tLoss: 0.067716\n",
            "Train Epoch: 1 [57600/60000 (96%)]\tLoss: 0.207067\n",
            "\n",
            "Epoch 1 time = 13.44s on device cuda\n",
            "\n",
            "Test set: Average loss: 0.0509, Accuracy: 9832/10000 (98%)\n",
            "\n",
            "Train Epoch: 2 [0/60000 (0%)]\tLoss: 0.050303\n",
            "Train Epoch: 2 [3200/60000 (5%)]\tLoss: 0.072483\n",
            "Train Epoch: 2 [6400/60000 (11%)]\tLoss: 0.106310\n",
            "Train Epoch: 2 [9600/60000 (16%)]\tLoss: 0.054427\n",
            "Train Epoch: 2 [12800/60000 (21%)]\tLoss: 0.056999\n",
            "Train Epoch: 2 [16000/60000 (27%)]\tLoss: 0.090321\n",
            "Train Epoch: 2 [19200/60000 (32%)]\tLoss: 0.145806\n",
            "Train Epoch: 2 [22400/60000 (37%)]\tLoss: 0.017484\n",
            "Train Epoch: 2 [25600/60000 (43%)]\tLoss: 0.012569\n",
            "Train Epoch: 2 [28800/60000 (48%)]\tLoss: 0.039712\n",
            "Train Epoch: 2 [32000/60000 (53%)]\tLoss: 0.026502\n",
            "Train Epoch: 2 [35200/60000 (59%)]\tLoss: 0.105848\n",
            "Train Epoch: 2 [38400/60000 (64%)]\tLoss: 0.124736\n",
            "Train Epoch: 2 [41600/60000 (69%)]\tLoss: 0.067633\n",
            "Train Epoch: 2 [44800/60000 (75%)]\tLoss: 0.101930\n",
            "Train Epoch: 2 [48000/60000 (80%)]\tLoss: 0.052696\n",
            "Train Epoch: 2 [51200/60000 (85%)]\tLoss: 0.183393\n",
            "Train Epoch: 2 [54400/60000 (91%)]\tLoss: 0.088591\n",
            "Train Epoch: 2 [57600/60000 (96%)]\tLoss: 0.108365\n",
            "\n",
            "Epoch 2 time = 13.44s on device cuda\n",
            "\n",
            "Test set: Average loss: 0.0369, Accuracy: 9875/10000 (99%)\n",
            "\n",
            "Train Epoch: 3 [0/60000 (0%)]\tLoss: 0.034378\n",
            "Train Epoch: 3 [3200/60000 (5%)]\tLoss: 0.033934\n",
            "Train Epoch: 3 [6400/60000 (11%)]\tLoss: 0.130424\n",
            "Train Epoch: 3 [9600/60000 (16%)]\tLoss: 0.010610\n",
            "Train Epoch: 3 [12800/60000 (21%)]\tLoss: 0.017787\n",
            "Train Epoch: 3 [16000/60000 (27%)]\tLoss: 0.087742\n",
            "Train Epoch: 3 [19200/60000 (32%)]\tLoss: 0.073643\n",
            "Train Epoch: 3 [22400/60000 (37%)]\tLoss: 0.003770\n",
            "Train Epoch: 3 [25600/60000 (43%)]\tLoss: 0.114195\n",
            "Train Epoch: 3 [28800/60000 (48%)]\tLoss: 0.014574\n",
            "Train Epoch: 3 [32000/60000 (53%)]\tLoss: 0.036036\n",
            "Train Epoch: 3 [35200/60000 (59%)]\tLoss: 0.165832\n",
            "Train Epoch: 3 [38400/60000 (64%)]\tLoss: 0.093584\n",
            "Train Epoch: 3 [41600/60000 (69%)]\tLoss: 0.005352\n",
            "Train Epoch: 3 [44800/60000 (75%)]\tLoss: 0.026212\n",
            "Train Epoch: 3 [48000/60000 (80%)]\tLoss: 0.083808\n",
            "Train Epoch: 3 [51200/60000 (85%)]\tLoss: 0.153245\n",
            "Train Epoch: 3 [54400/60000 (91%)]\tLoss: 0.001541\n",
            "Train Epoch: 3 [57600/60000 (96%)]\tLoss: 0.062931\n",
            "\n",
            "Epoch 3 time = 13.32s on device cuda\n",
            "\n",
            "Test set: Average loss: 0.0330, Accuracy: 9891/10000 (99%)\n",
            "\n",
            "Train Epoch: 4 [0/60000 (0%)]\tLoss: 0.059091\n",
            "Train Epoch: 4 [3200/60000 (5%)]\tLoss: 0.018293\n",
            "Train Epoch: 4 [6400/60000 (11%)]\tLoss: 0.161096\n",
            "Train Epoch: 4 [9600/60000 (16%)]\tLoss: 0.010583\n",
            "Train Epoch: 4 [12800/60000 (21%)]\tLoss: 0.016026\n",
            "Train Epoch: 4 [16000/60000 (27%)]\tLoss: 0.052449\n",
            "Train Epoch: 4 [19200/60000 (32%)]\tLoss: 0.081883\n",
            "Train Epoch: 4 [22400/60000 (37%)]\tLoss: 0.021898\n",
            "Train Epoch: 4 [25600/60000 (43%)]\tLoss: 0.010054\n",
            "Train Epoch: 4 [28800/60000 (48%)]\tLoss: 0.009009\n",
            "Train Epoch: 4 [32000/60000 (53%)]\tLoss: 0.005259\n",
            "Train Epoch: 4 [35200/60000 (59%)]\tLoss: 0.159626\n",
            "Train Epoch: 4 [38400/60000 (64%)]\tLoss: 0.055074\n",
            "Train Epoch: 4 [41600/60000 (69%)]\tLoss: 0.051842\n",
            "Train Epoch: 4 [44800/60000 (75%)]\tLoss: 0.037924\n",
            "Train Epoch: 4 [48000/60000 (80%)]\tLoss: 0.020207\n",
            "Train Epoch: 4 [51200/60000 (85%)]\tLoss: 0.162762\n",
            "Train Epoch: 4 [54400/60000 (91%)]\tLoss: 0.081305\n",
            "Train Epoch: 4 [57600/60000 (96%)]\tLoss: 0.057801\n",
            "\n",
            "Epoch 4 time = 13.33s on device cuda\n",
            "\n",
            "Test set: Average loss: 0.0291, Accuracy: 9903/10000 (99%)\n",
            "\n",
            "Train Epoch: 5 [0/60000 (0%)]\tLoss: 0.024304\n",
            "Train Epoch: 5 [3200/60000 (5%)]\tLoss: 0.049395\n",
            "Train Epoch: 5 [6400/60000 (11%)]\tLoss: 0.013860\n",
            "Train Epoch: 5 [9600/60000 (16%)]\tLoss: 0.076567\n",
            "Train Epoch: 5 [12800/60000 (21%)]\tLoss: 0.081515\n",
            "Train Epoch: 5 [16000/60000 (27%)]\tLoss: 0.014613\n",
            "Train Epoch: 5 [19200/60000 (32%)]\tLoss: 0.062108\n",
            "Train Epoch: 5 [22400/60000 (37%)]\tLoss: 0.001330\n",
            "Train Epoch: 5 [25600/60000 (43%)]\tLoss: 0.000961\n",
            "Train Epoch: 5 [28800/60000 (48%)]\tLoss: 0.004650\n",
            "Train Epoch: 5 [32000/60000 (53%)]\tLoss: 0.040813\n",
            "Train Epoch: 5 [35200/60000 (59%)]\tLoss: 0.149060\n",
            "Train Epoch: 5 [38400/60000 (64%)]\tLoss: 0.072126\n",
            "Train Epoch: 5 [41600/60000 (69%)]\tLoss: 0.007789\n",
            "Train Epoch: 5 [44800/60000 (75%)]\tLoss: 0.030650\n",
            "Train Epoch: 5 [48000/60000 (80%)]\tLoss: 0.048281\n",
            "Train Epoch: 5 [51200/60000 (85%)]\tLoss: 0.120563\n",
            "Train Epoch: 5 [54400/60000 (91%)]\tLoss: 0.002758\n",
            "Train Epoch: 5 [57600/60000 (96%)]\tLoss: 0.067248\n",
            "\n",
            "Epoch 5 time = 13.59s on device cuda\n",
            "\n",
            "Test set: Average loss: 0.0296, Accuracy: 9912/10000 (99%)\n",
            "\n",
            "GPU - Batch Size: 64, Time Taken: 77.21 seconds\n",
            "Train Epoch: 1 [0/60000 (0%)]\tLoss: 2.308362\n",
            "Train Epoch: 1 [6400/60000 (11%)]\tLoss: 0.444716\n",
            "Train Epoch: 1 [12800/60000 (21%)]\tLoss: 0.225046\n",
            "Train Epoch: 1 [19200/60000 (32%)]\tLoss: 0.253056\n",
            "Train Epoch: 1 [25600/60000 (43%)]\tLoss: 0.135965\n",
            "Train Epoch: 1 [32000/60000 (53%)]\tLoss: 0.158969\n",
            "Train Epoch: 1 [38400/60000 (64%)]\tLoss: 0.229240\n",
            "Train Epoch: 1 [44800/60000 (75%)]\tLoss: 0.108025\n",
            "Train Epoch: 1 [51200/60000 (85%)]\tLoss: 0.176567\n",
            "Train Epoch: 1 [57600/60000 (96%)]\tLoss: 0.076574\n",
            "\n",
            "Epoch 1 time = 12.17s on device cuda\n",
            "\n",
            "Test set: Average loss: 0.0491, Accuracy: 9837/10000 (98%)\n",
            "\n",
            "Train Epoch: 2 [0/60000 (0%)]\tLoss: 0.077374\n",
            "Train Epoch: 2 [6400/60000 (11%)]\tLoss: 0.147067\n",
            "Train Epoch: 2 [12800/60000 (21%)]\tLoss: 0.036745\n",
            "Train Epoch: 2 [19200/60000 (32%)]\tLoss: 0.078302\n",
            "Train Epoch: 2 [25600/60000 (43%)]\tLoss: 0.039500\n",
            "Train Epoch: 2 [32000/60000 (53%)]\tLoss: 0.091923\n",
            "Train Epoch: 2 [38400/60000 (64%)]\tLoss: 0.060496\n",
            "Train Epoch: 2 [44800/60000 (75%)]\tLoss: 0.065171\n",
            "Train Epoch: 2 [51200/60000 (85%)]\tLoss: 0.058257\n",
            "Train Epoch: 2 [57600/60000 (96%)]\tLoss: 0.064817\n",
            "\n",
            "Epoch 2 time = 11.66s on device cuda\n",
            "\n",
            "Test set: Average loss: 0.0388, Accuracy: 9865/10000 (99%)\n",
            "\n",
            "Train Epoch: 3 [0/60000 (0%)]\tLoss: 0.049669\n",
            "Train Epoch: 3 [6400/60000 (11%)]\tLoss: 0.123626\n",
            "Train Epoch: 3 [12800/60000 (21%)]\tLoss: 0.038630\n",
            "Train Epoch: 3 [19200/60000 (32%)]\tLoss: 0.032188\n",
            "Train Epoch: 3 [25600/60000 (43%)]\tLoss: 0.139292\n",
            "Train Epoch: 3 [32000/60000 (53%)]\tLoss: 0.079778\n",
            "Train Epoch: 3 [38400/60000 (64%)]\tLoss: 0.101166\n",
            "Train Epoch: 3 [44800/60000 (75%)]\tLoss: 0.050350\n",
            "Train Epoch: 3 [51200/60000 (85%)]\tLoss: 0.111589\n",
            "Train Epoch: 3 [57600/60000 (96%)]\tLoss: 0.064672\n",
            "\n",
            "Epoch 3 time = 11.92s on device cuda\n",
            "\n",
            "Test set: Average loss: 0.0307, Accuracy: 9885/10000 (99%)\n",
            "\n",
            "Train Epoch: 4 [0/60000 (0%)]\tLoss: 0.079459\n",
            "Train Epoch: 4 [6400/60000 (11%)]\tLoss: 0.108702\n",
            "Train Epoch: 4 [12800/60000 (21%)]\tLoss: 0.029943\n",
            "Train Epoch: 4 [19200/60000 (32%)]\tLoss: 0.025950\n",
            "Train Epoch: 4 [25600/60000 (43%)]\tLoss: 0.061252\n",
            "Train Epoch: 4 [32000/60000 (53%)]\tLoss: 0.047546\n",
            "Train Epoch: 4 [38400/60000 (64%)]\tLoss: 0.066982\n",
            "Train Epoch: 4 [44800/60000 (75%)]\tLoss: 0.085226\n",
            "Train Epoch: 4 [51200/60000 (85%)]\tLoss: 0.072866\n",
            "Train Epoch: 4 [57600/60000 (96%)]\tLoss: 0.029213\n",
            "\n",
            "Epoch 4 time = 12.24s on device cuda\n",
            "\n",
            "Test set: Average loss: 0.0300, Accuracy: 9893/10000 (99%)\n",
            "\n",
            "Train Epoch: 5 [0/60000 (0%)]\tLoss: 0.020752\n",
            "Train Epoch: 5 [6400/60000 (11%)]\tLoss: 0.102675\n",
            "Train Epoch: 5 [12800/60000 (21%)]\tLoss: 0.034236\n",
            "Train Epoch: 5 [19200/60000 (32%)]\tLoss: 0.059905\n",
            "Train Epoch: 5 [25600/60000 (43%)]\tLoss: 0.066962\n",
            "Train Epoch: 5 [32000/60000 (53%)]\tLoss: 0.022862\n",
            "Train Epoch: 5 [38400/60000 (64%)]\tLoss: 0.082197\n",
            "Train Epoch: 5 [44800/60000 (75%)]\tLoss: 0.033409\n",
            "Train Epoch: 5 [51200/60000 (85%)]\tLoss: 0.099823\n",
            "Train Epoch: 5 [57600/60000 (96%)]\tLoss: 0.041498\n",
            "\n",
            "Epoch 5 time = 12.51s on device cuda\n",
            "\n",
            "Test set: Average loss: 0.0281, Accuracy: 9903/10000 (99%)\n",
            "\n",
            "GPU - Batch Size: 128, Time Taken: 71.75 seconds\n",
            "Train Epoch: 1 [0/60000 (0%)]\tLoss: 2.316878\n",
            "Train Epoch: 1 [12800/60000 (21%)]\tLoss: 0.340789\n",
            "Train Epoch: 1 [25600/60000 (43%)]\tLoss: 0.195563\n",
            "Train Epoch: 1 [38400/60000 (64%)]\tLoss: 0.145314\n",
            "Train Epoch: 1 [51200/60000 (85%)]\tLoss: 0.138156\n",
            "\n",
            "Epoch 1 time = 11.95s on device cuda\n",
            "\n",
            "Test set: Average loss: 0.0699, Accuracy: 9787/10000 (98%)\n",
            "\n",
            "Train Epoch: 2 [0/60000 (0%)]\tLoss: 0.146914\n",
            "Train Epoch: 2 [12800/60000 (21%)]\tLoss: 0.086610\n",
            "Train Epoch: 2 [25600/60000 (43%)]\tLoss: 0.108074\n",
            "Train Epoch: 2 [38400/60000 (64%)]\tLoss: 0.113863\n",
            "Train Epoch: 2 [51200/60000 (85%)]\tLoss: 0.064239\n",
            "\n",
            "Epoch 2 time = 11.89s on device cuda\n",
            "\n",
            "Test set: Average loss: 0.0408, Accuracy: 9864/10000 (99%)\n",
            "\n",
            "Train Epoch: 3 [0/60000 (0%)]\tLoss: 0.089990\n",
            "Train Epoch: 3 [12800/60000 (21%)]\tLoss: 0.064492\n",
            "Train Epoch: 3 [25600/60000 (43%)]\tLoss: 0.061342\n",
            "Train Epoch: 3 [38400/60000 (64%)]\tLoss: 0.083267\n",
            "Train Epoch: 3 [51200/60000 (85%)]\tLoss: 0.068720\n",
            "\n",
            "Epoch 3 time = 11.93s on device cuda\n",
            "\n",
            "Test set: Average loss: 0.0369, Accuracy: 9873/10000 (99%)\n",
            "\n",
            "Train Epoch: 4 [0/60000 (0%)]\tLoss: 0.093720\n",
            "Train Epoch: 4 [12800/60000 (21%)]\tLoss: 0.054102\n",
            "Train Epoch: 4 [25600/60000 (43%)]\tLoss: 0.076080\n",
            "Train Epoch: 4 [38400/60000 (64%)]\tLoss: 0.065053\n",
            "Train Epoch: 4 [51200/60000 (85%)]\tLoss: 0.064051\n",
            "\n",
            "Epoch 4 time = 11.77s on device cuda\n",
            "\n",
            "Test set: Average loss: 0.0336, Accuracy: 9883/10000 (99%)\n",
            "\n",
            "Train Epoch: 5 [0/60000 (0%)]\tLoss: 0.102433\n",
            "Train Epoch: 5 [12800/60000 (21%)]\tLoss: 0.053227\n",
            "Train Epoch: 5 [25600/60000 (43%)]\tLoss: 0.047195\n",
            "Train Epoch: 5 [38400/60000 (64%)]\tLoss: 0.060721\n",
            "Train Epoch: 5 [51200/60000 (85%)]\tLoss: 0.063133\n",
            "\n",
            "Epoch 5 time = 11.73s on device cuda\n",
            "\n",
            "Test set: Average loss: 0.0314, Accuracy: 9892/10000 (99%)\n",
            "\n",
            "GPU - Batch Size: 256, Time Taken: 68.48 seconds\n",
            "Train Epoch: 1 [0/60000 (0%)]\tLoss: 2.312710\n",
            "Train Epoch: 1 [25600/60000 (42%)]\tLoss: 0.214821\n",
            "Train Epoch: 1 [51200/60000 (85%)]\tLoss: 0.139559\n",
            "\n",
            "Epoch 1 time = 11.48s on device cuda\n",
            "\n",
            "Test set: Average loss: 0.0820, Accuracy: 9734/10000 (97%)\n",
            "\n",
            "Train Epoch: 2 [0/60000 (0%)]\tLoss: 0.147379\n",
            "Train Epoch: 2 [25600/60000 (42%)]\tLoss: 0.107598\n",
            "Train Epoch: 2 [51200/60000 (85%)]\tLoss: 0.081083\n",
            "\n",
            "Epoch 2 time = 11.5s on device cuda\n",
            "\n",
            "Test set: Average loss: 0.0501, Accuracy: 9833/10000 (98%)\n",
            "\n",
            "Train Epoch: 3 [0/60000 (0%)]\tLoss: 0.116744\n",
            "Train Epoch: 3 [25600/60000 (42%)]\tLoss: 0.054486\n",
            "Train Epoch: 3 [51200/60000 (85%)]\tLoss: 0.059832\n",
            "\n",
            "Epoch 3 time = 11.47s on device cuda\n",
            "\n",
            "Test set: Average loss: 0.0439, Accuracy: 9859/10000 (99%)\n",
            "\n",
            "Train Epoch: 4 [0/60000 (0%)]\tLoss: 0.083582\n",
            "Train Epoch: 4 [25600/60000 (42%)]\tLoss: 0.037050\n",
            "Train Epoch: 4 [51200/60000 (85%)]\tLoss: 0.079386\n",
            "\n",
            "Epoch 4 time = 11.66s on device cuda\n",
            "\n",
            "Test set: Average loss: 0.0360, Accuracy: 9881/10000 (99%)\n",
            "\n",
            "Train Epoch: 5 [0/60000 (0%)]\tLoss: 0.070096\n",
            "Train Epoch: 5 [25600/60000 (42%)]\tLoss: 0.055752\n",
            "Train Epoch: 5 [51200/60000 (85%)]\tLoss: 0.046151\n",
            "\n",
            "Epoch 5 time = 11.57s on device cuda\n",
            "\n",
            "Test set: Average loss: 0.0331, Accuracy: 9893/10000 (99%)\n",
            "\n",
            "GPU - Batch Size: 512, Time Taken: 66.75 seconds\n"
          ]
        },
        {
          "output_type": "display_data",
          "data": {
            "text/plain": [
              "<Figure size 1000x600 with 1 Axes>"
            ],
            "image/png": "[encoded data removed]"
          },
          "metadata": {}
        }
      ]
    },
    {
      "cell_type": "markdown",
      "metadata": {
        "id": "y10wFNoo81-U"
      },
      "source": [
        "## Training Loop"
      ]
    },
    {
      "cell_type": "code",
      "execution_count": 12,
      "metadata": {
        "id": "NGnAaTm64X_l",
        "colab": {
          "base_uri": "https://localhost:8080/",
          "height": 425
        },
        "outputId": "f7f0fe17-dd03-438f-e5da-610f5e5992f1"
      },
      "outputs": [
        {
          "output_type": "stream",
          "name": "stdout",
          "text": [
            "Train Epoch: 1 [0/60000 (0%)]\tLoss: 2.319993\n",
            "Train Epoch: 1 [6400/60000 (11%)]\tLoss: 0.380766\n",
            "Train Epoch: 1 [12800/60000 (21%)]\tLoss: 0.170312\n"
          ]
        },
        {
          "output_type": "error",
          "ename": "KeyboardInterrupt",
          "evalue": "",
          "traceback": [
            "\u001b[0;31m---------------------------------------------------------------------------\u001b[0m",
            "\u001b[0;31mKeyboardInterrupt\u001b[0m                         Traceback (most recent call last)",
            "\u001b[0;32m<ipython-input-12-2e1bc9c0feaa>\u001b[0m in \u001b[0;36m<cell line: 0>\u001b[0;34m()\u001b[0m\n\u001b[1;32m      6\u001b[0m \u001b[0;34m\u001b[0m\u001b[0m\n\u001b[1;32m      7\u001b[0m \u001b[0;32mfor\u001b[0m \u001b[0mepoch\u001b[0m \u001b[0;32min\u001b[0m \u001b[0mrange\u001b[0m\u001b[0;34m(\u001b[0m\u001b[0;36m1\u001b[0m\u001b[0;34m,\u001b[0m \u001b[0mepochs\u001b[0m \u001b[0;34m+\u001b[0m \u001b[0;36m1\u001b[0m\u001b[0;34m)\u001b[0m\u001b[0;34m:\u001b[0m\u001b[0;34m\u001b[0m\u001b[0;34m\u001b[0m\u001b[0m\n\u001b[0;32m----> 8\u001b[0;31m     \u001b[0mtrain_utils\u001b[0m\u001b[0;34m.\u001b[0m\u001b[0mtrain\u001b[0m\u001b[0;34m(\u001b[0m\u001b[0mmodel\u001b[0m\u001b[0;34m,\u001b[0m \u001b[0mdevice\u001b[0m\u001b[0;34m,\u001b[0m \u001b[0mtrain_loader\u001b[0m\u001b[0;34m,\u001b[0m \u001b[0moptimizer\u001b[0m\u001b[0;34m,\u001b[0m \u001b[0mepoch\u001b[0m\u001b[0;34m,\u001b[0m \u001b[0mlog_interval\u001b[0m\u001b[0;34m,\u001b[0m \u001b[0mdry_run\u001b[0m\u001b[0;34m)\u001b[0m\u001b[0;34m\u001b[0m\u001b[0;34m\u001b[0m\u001b[0m\n\u001b[0m\u001b[1;32m      9\u001b[0m     \u001b[0mtrain_utils\u001b[0m\u001b[0;34m.\u001b[0m\u001b[0mtest\u001b[0m\u001b[0;34m(\u001b[0m\u001b[0mmodel\u001b[0m\u001b[0;34m,\u001b[0m \u001b[0mdevice\u001b[0m\u001b[0;34m,\u001b[0m \u001b[0mtest_loader\u001b[0m\u001b[0;34m)\u001b[0m\u001b[0;34m\u001b[0m\u001b[0;34m\u001b[0m\u001b[0m\n\u001b[1;32m     10\u001b[0m     \u001b[0mscheduler\u001b[0m\u001b[0;34m.\u001b[0m\u001b[0mstep\u001b[0m\u001b[0;34m(\u001b[0m\u001b[0;34m)\u001b[0m\u001b[0;34m\u001b[0m\u001b[0;34m\u001b[0m\u001b[0m\n",
            "\u001b[0;32m/content/gdrive/MyDrive/ece5545/a0/src/train_utils.py\u001b[0m in \u001b[0;36mtrain\u001b[0;34m(model, device, train_loader, optimizer, epoch, log_interval, dry_run)\u001b[0m\n\u001b[1;32m     12\u001b[0m         \u001b[0mdata\u001b[0m\u001b[0;34m,\u001b[0m \u001b[0mtarget\u001b[0m \u001b[0;34m=\u001b[0m \u001b[0mdata\u001b[0m\u001b[0;34m.\u001b[0m\u001b[0mto\u001b[0m\u001b[0;34m(\u001b[0m\u001b[0mdevice\u001b[0m\u001b[0;34m)\u001b[0m\u001b[0;34m,\u001b[0m \u001b[0mtarget\u001b[0m\u001b[0;34m.\u001b[0m\u001b[0mto\u001b[0m\u001b[0;34m(\u001b[0m\u001b[0mdevice\u001b[0m\u001b[0;34m)\u001b[0m\u001b[0;34m\u001b[0m\u001b[0;34m\u001b[0m\u001b[0m\n\u001b[1;32m     13\u001b[0m         \u001b[0moptimizer\u001b[0m\u001b[0;34m.\u001b[0m\u001b[0mzero_grad\u001b[0m\u001b[0;34m(\u001b[0m\u001b[0;34m)\u001b[0m\u001b[0;34m\u001b[0m\u001b[0;34m\u001b[0m\u001b[0m\n\u001b[0;32m---> 14\u001b[0;31m         \u001b[0moutput\u001b[0m \u001b[0;34m=\u001b[0m \u001b[0mmodel\u001b[0m\u001b[0;34m(\u001b[0m\u001b[0mdata\u001b[0m\u001b[0;34m)\u001b[0m\u001b[0;34m\u001b[0m\u001b[0;34m\u001b[0m\u001b[0m\n\u001b[0m\u001b[1;32m     15\u001b[0m         \u001b[0mloss\u001b[0m \u001b[0;34m=\u001b[0m \u001b[0mF\u001b[0m\u001b[0;34m.\u001b[0m\u001b[0mnll_loss\u001b[0m\u001b[0;34m(\u001b[0m\u001b[0moutput\u001b[0m\u001b[0;34m,\u001b[0m \u001b[0mtarget\u001b[0m\u001b[0;34m)\u001b[0m\u001b[0;34m\u001b[0m\u001b[0;34m\u001b[0m\u001b[0m\n\u001b[1;32m     16\u001b[0m         \u001b[0mloss\u001b[0m\u001b[0;34m.\u001b[0m\u001b[0mbackward\u001b[0m\u001b[0;34m(\u001b[0m\u001b[0;34m)\u001b[0m\u001b[0;34m\u001b[0m\u001b[0;34m\u001b[0m\u001b[0m\n",
            "\u001b[0;32m/usr/local/lib/python3.11/dist-packages/torch/nn/modules/module.py\u001b[0m in \u001b[0;36m_wrapped_call_impl\u001b[0;34m(self, *args, **kwargs)\u001b[0m\n\u001b[1;32m   1734\u001b[0m             \u001b[0;32mreturn\u001b[0m \u001b[0mself\u001b[0m\u001b[0;34m.\u001b[0m\u001b[0m_compiled_call_impl\u001b[0m\u001b[0;34m(\u001b[0m\u001b[0;34m*\u001b[0m\u001b[0margs\u001b[0m\u001b[0;34m,\u001b[0m \u001b[0;34m**\u001b[0m\u001b[0mkwargs\u001b[0m\u001b[0;34m)\u001b[0m  \u001b[0;31m# type: ignore[misc]\u001b[0m\u001b[0;34m\u001b[0m\u001b[0;34m\u001b[0m\u001b[0m\n\u001b[1;32m   1735\u001b[0m         \u001b[0;32melse\u001b[0m\u001b[0;34m:\u001b[0m\u001b[0;34m\u001b[0m\u001b[0;34m\u001b[0m\u001b[0m\n\u001b[0;32m-> 1736\u001b[0;31m             \u001b[0;32mreturn\u001b[0m \u001b[0mself\u001b[0m\u001b[0;34m.\u001b[0m\u001b[0m_call_impl\u001b[0m\u001b[0;34m(\u001b[0m\u001b[0;34m*\u001b[0m\u001b[0margs\u001b[0m\u001b[0;34m,\u001b[0m \u001b[0;34m**\u001b[0m\u001b[0mkwargs\u001b[0m\u001b[0;34m)\u001b[0m\u001b[0;34m\u001b[0m\u001b[0;34m\u001b[0m\u001b[0m\n\u001b[0m\u001b[1;32m   1737\u001b[0m \u001b[0;34m\u001b[0m\u001b[0m\n\u001b[1;32m   1738\u001b[0m     \u001b[0;31m# torchrec tests the code consistency with the following code\u001b[0m\u001b[0;34m\u001b[0m\u001b[0;34m\u001b[0m\u001b[0m\n",
            "\u001b[0;32m/usr/local/lib/python3.11/dist-packages/torch/nn/modules/module.py\u001b[0m in \u001b[0;36m_call_impl\u001b[0;34m(self, *args, **kwargs)\u001b[0m\n\u001b[1;32m   1745\u001b[0m                 \u001b[0;32mor\u001b[0m \u001b[0m_global_backward_pre_hooks\u001b[0m \u001b[0;32mor\u001b[0m \u001b[0m_global_backward_hooks\u001b[0m\u001b[0;34m\u001b[0m\u001b[0;34m\u001b[0m\u001b[0m\n\u001b[1;32m   1746\u001b[0m                 or _global_forward_hooks or _global_forward_pre_hooks):\n\u001b[0;32m-> 1747\u001b[0;31m             \u001b[0;32mreturn\u001b[0m \u001b[0mforward_call\u001b[0m\u001b[0;34m(\u001b[0m\u001b[0;34m*\u001b[0m\u001b[0margs\u001b[0m\u001b[0;34m,\u001b[0m \u001b[0;34m**\u001b[0m\u001b[0mkwargs\u001b[0m\u001b[0;34m)\u001b[0m\u001b[0;34m\u001b[0m\u001b[0;34m\u001b[0m\u001b[0m\n\u001b[0m\u001b[1;32m   1748\u001b[0m \u001b[0;34m\u001b[0m\u001b[0m\n\u001b[1;32m   1749\u001b[0m         \u001b[0mresult\u001b[0m \u001b[0;34m=\u001b[0m \u001b[0;32mNone\u001b[0m\u001b[0;34m\u001b[0m\u001b[0;34m\u001b[0m\u001b[0m\n",
            "\u001b[0;32m/content/gdrive/MyDrive/ece5545/a0/src/model.py\u001b[0m in \u001b[0;36mforward\u001b[0;34m(self, x)\u001b[0m\n\u001b[1;32m     18\u001b[0m         \u001b[0mx\u001b[0m \u001b[0;34m=\u001b[0m \u001b[0mself\u001b[0m\u001b[0;34m.\u001b[0m\u001b[0mconv2\u001b[0m\u001b[0;34m(\u001b[0m\u001b[0mx\u001b[0m\u001b[0;34m)\u001b[0m\u001b[0;34m\u001b[0m\u001b[0;34m\u001b[0m\u001b[0m\n\u001b[1;32m     19\u001b[0m         \u001b[0mx\u001b[0m \u001b[0;34m=\u001b[0m \u001b[0mF\u001b[0m\u001b[0;34m.\u001b[0m\u001b[0mrelu\u001b[0m\u001b[0;34m(\u001b[0m\u001b[0mx\u001b[0m\u001b[0;34m)\u001b[0m\u001b[0;34m\u001b[0m\u001b[0;34m\u001b[0m\u001b[0m\n\u001b[0;32m---> 20\u001b[0;31m         \u001b[0mx\u001b[0m \u001b[0;34m=\u001b[0m \u001b[0mF\u001b[0m\u001b[0;34m.\u001b[0m\u001b[0mmax_pool2d\u001b[0m\u001b[0;34m(\u001b[0m\u001b[0mx\u001b[0m\u001b[0;34m,\u001b[0m \u001b[0;36m2\u001b[0m\u001b[0;34m)\u001b[0m\u001b[0;34m\u001b[0m\u001b[0;34m\u001b[0m\u001b[0m\n\u001b[0m\u001b[1;32m     21\u001b[0m         \u001b[0mx\u001b[0m \u001b[0;34m=\u001b[0m \u001b[0mself\u001b[0m\u001b[0;34m.\u001b[0m\u001b[0mdropout1\u001b[0m\u001b[0;34m(\u001b[0m\u001b[0mx\u001b[0m\u001b[0;34m)\u001b[0m\u001b[0;34m\u001b[0m\u001b[0;34m\u001b[0m\u001b[0m\n\u001b[1;32m     22\u001b[0m         \u001b[0mx\u001b[0m \u001b[0;34m=\u001b[0m \u001b[0mtorch\u001b[0m\u001b[0;34m.\u001b[0m\u001b[0mflatten\u001b[0m\u001b[0;34m(\u001b[0m\u001b[0mx\u001b[0m\u001b[0;34m,\u001b[0m \u001b[0;36m1\u001b[0m\u001b[0;34m)\u001b[0m\u001b[0;34m\u001b[0m\u001b[0;34m\u001b[0m\u001b[0m\n",
            "\u001b[0;32m/usr/local/lib/python3.11/dist-packages/torch/_jit_internal.py\u001b[0m in \u001b[0;36mfn\u001b[0;34m(*args, **kwargs)\u001b[0m\n\u001b[1;32m    622\u001b[0m             \u001b[0;32mreturn\u001b[0m \u001b[0mif_true\u001b[0m\u001b[0;34m(\u001b[0m\u001b[0;34m*\u001b[0m\u001b[0margs\u001b[0m\u001b[0;34m,\u001b[0m \u001b[0;34m**\u001b[0m\u001b[0mkwargs\u001b[0m\u001b[0;34m)\u001b[0m\u001b[0;34m\u001b[0m\u001b[0;34m\u001b[0m\u001b[0m\n\u001b[1;32m    623\u001b[0m         \u001b[0;32melse\u001b[0m\u001b[0;34m:\u001b[0m\u001b[0;34m\u001b[0m\u001b[0;34m\u001b[0m\u001b[0m\n\u001b[0;32m--> 624\u001b[0;31m             \u001b[0;32mreturn\u001b[0m \u001b[0mif_false\u001b[0m\u001b[0;34m(\u001b[0m\u001b[0;34m*\u001b[0m\u001b[0margs\u001b[0m\u001b[0;34m,\u001b[0m \u001b[0;34m**\u001b[0m\u001b[0mkwargs\u001b[0m\u001b[0;34m)\u001b[0m\u001b[0;34m\u001b[0m\u001b[0;34m\u001b[0m\u001b[0m\n\u001b[0m\u001b[1;32m    625\u001b[0m \u001b[0;34m\u001b[0m\u001b[0m\n\u001b[1;32m    626\u001b[0m     \u001b[0;32mif\u001b[0m \u001b[0mif_true\u001b[0m\u001b[0;34m.\u001b[0m\u001b[0m__doc__\u001b[0m \u001b[0;32mis\u001b[0m \u001b[0;32mNone\u001b[0m \u001b[0;32mand\u001b[0m \u001b[0mif_false\u001b[0m\u001b[0;34m.\u001b[0m\u001b[0m__doc__\u001b[0m \u001b[0;32mis\u001b[0m \u001b[0;32mnot\u001b[0m \u001b[0;32mNone\u001b[0m\u001b[0;34m:\u001b[0m\u001b[0;34m\u001b[0m\u001b[0;34m\u001b[0m\u001b[0m\n",
            "\u001b[0;32m/usr/local/lib/python3.11/dist-packages/torch/nn/functional.py\u001b[0m in \u001b[0;36m_max_pool2d\u001b[0;34m(input, kernel_size, stride, padding, dilation, ceil_mode, return_indices)\u001b[0m\n\u001b[1;32m    828\u001b[0m     \u001b[0;32mif\u001b[0m \u001b[0mstride\u001b[0m \u001b[0;32mis\u001b[0m \u001b[0;32mNone\u001b[0m\u001b[0;34m:\u001b[0m\u001b[0;34m\u001b[0m\u001b[0;34m\u001b[0m\u001b[0m\n\u001b[1;32m    829\u001b[0m         \u001b[0mstride\u001b[0m \u001b[0;34m=\u001b[0m \u001b[0mtorch\u001b[0m\u001b[0;34m.\u001b[0m\u001b[0mjit\u001b[0m\u001b[0;34m.\u001b[0m\u001b[0mannotate\u001b[0m\u001b[0;34m(\u001b[0m\u001b[0mList\u001b[0m\u001b[0;34m[\u001b[0m\u001b[0mint\u001b[0m\u001b[0;34m]\u001b[0m\u001b[0;34m,\u001b[0m \u001b[0;34m[\u001b[0m\u001b[0;34m]\u001b[0m\u001b[0;34m)\u001b[0m\u001b[0;34m\u001b[0m\u001b[0;34m\u001b[0m\u001b[0m\n\u001b[0;32m--> 830\u001b[0;31m     \u001b[0;32mreturn\u001b[0m \u001b[0mtorch\u001b[0m\u001b[0;34m.\u001b[0m\u001b[0mmax_pool2d\u001b[0m\u001b[0;34m(\u001b[0m\u001b[0minput\u001b[0m\u001b[0;34m,\u001b[0m \u001b[0mkernel_size\u001b[0m\u001b[0;34m,\u001b[0m \u001b[0mstride\u001b[0m\u001b[0;34m,\u001b[0m \u001b[0mpadding\u001b[0m\u001b[0;34m,\u001b[0m \u001b[0mdilation\u001b[0m\u001b[0;34m,\u001b[0m \u001b[0mceil_mode\u001b[0m\u001b[0;34m)\u001b[0m\u001b[0;34m\u001b[0m\u001b[0;34m\u001b[0m\u001b[0m\n\u001b[0m\u001b[1;32m    831\u001b[0m \u001b[0;34m\u001b[0m\u001b[0m\n\u001b[1;32m    832\u001b[0m \u001b[0;34m\u001b[0m\u001b[0m\n",
            "\u001b[0;31mKeyboardInterrupt\u001b[0m: "
          ]
        }
      ],
      "source": [
        "import importlib\n",
        "importlib.reload(train_utils)\n",
        "# we use importlib to make sure that we are loading\n",
        "# the latest version of train_utils after any changes\n",
        "# that you may have done\n",
        "\n",
        "for epoch in range(1, epochs + 1):\n",
        "    train_utils.train(model, device, train_loader, optimizer, epoch, log_interval, dry_run)\n",
        "    train_utils.test(model, device, test_loader)\n",
        "    scheduler.step()\n",
        "\n",
        "if save_model:\n",
        "    torch.save(model.state_dict(), \"mnist_cnn.pt\")"
      ]
    },
    {
      "cell_type": "code",
      "execution_count": 14,
      "metadata": {
        "id": "E-AAD7e86Az_",
        "colab": {
          "base_uri": "https://localhost:8080/"
        },
        "outputId": "79afef34-18b2-4285-bb87-5306a5990220"
      },
      "outputs": [
        {
          "output_type": "stream",
          "name": "stdout",
          "text": [
            "Fri Jan 31 18:47:03 2025       \n",
            "+-----------------------------------------------------------------------------------------+\n",
            "| NVIDIA-SMI 550.54.15              Driver Version: 550.54.15      CUDA Version: 12.4     |\n",
            "|-----------------------------------------+------------------------+----------------------+\n",
            "| GPU  Name                 Persistence-M | Bus-Id          Disp.A | Volatile Uncorr. ECC |\n",
            "| Fan  Temp   Perf          Pwr:Usage/Cap |           Memory-Usage | GPU-Util  Compute M. |\n",
            "|                                         |                        |               MIG M. |\n",
            "|=========================================+========================+======================|\n",
            "|   0  Tesla T4                       Off |   00000000:00:04.0 Off |                    0 |\n",
            "| N/A   70C    P0             30W /   70W |    1210MiB /  15360MiB |      0%      Default |\n",
            "|                                         |                        |                  N/A |\n",
            "+-----------------------------------------+------------------------+----------------------+\n",
            "                                                                                         \n",
            "+-----------------------------------------------------------------------------------------+\n",
            "| Processes:                                                                              |\n",
            "|  GPU   GI   CI        PID   Type   Process name                              GPU Memory |\n",
            "|        ID   ID                                                               Usage      |\n",
            "|=========================================================================================|\n",
            "+-----------------------------------------------------------------------------------------+\n"
          ]
        }
      ],
      "source": [
        "# Diagnostic information about the used GPU device\n",
        "!nvidia-smi"
      ]
    },
    {
      "cell_type": "code",
      "execution_count": 23,
      "metadata": {
        "id": "sJFiI9Bs72lL",
        "colab": {
          "base_uri": "https://localhost:8080/"
        },
        "outputId": "2d5803dc-6202-40a8-ba4e-a89d476654b0"
      },
      "outputs": [
        {
          "output_type": "stream",
          "name": "stdout",
          "text": [
            "Architecture:             x86_64\n",
            "  CPU op-mode(s):         32-bit, 64-bit\n",
            "  Address sizes:          46 bits physical, 48 bits virtual\n",
            "  Byte Order:             Little Endian\n",
            "CPU(s):                   2\n",
            "  On-line CPU(s) list:    0,1\n",
            "Vendor ID:                GenuineIntel\n",
            "  Model name:             Intel(R) Xeon(R) CPU @ 2.20GHz\n",
            "    CPU family:           6\n",
            "    Model:                79\n",
            "    Thread(s) per core:   2\n",
            "    Core(s) per socket:   1\n",
            "    Socket(s):            1\n",
            "    Stepping:             0\n",
            "    BogoMIPS:             4399.99\n",
            "    Flags:                fpu vme de pse tsc msr pae mce cx8 apic sep mtrr pge mca cmov pat pse36 cl\n",
            "                          flush mmx fxsr sse sse2 ss ht syscall nx pdpe1gb rdtscp lm constant_tsc re\n",
            "                          p_good nopl xtopology nonstop_tsc cpuid tsc_known_freq pni pclmulqdq ssse3\n",
            "                           fma cx16 pcid sse4_1 sse4_2 x2apic movbe popcnt aes xsave avx f16c rdrand\n",
            "                           hypervisor lahf_lm abm 3dnowprefetch invpcid_single ssbd ibrs ibpb stibp \n",
            "                          fsgsbase tsc_adjust bmi1 hle avx2 smep bmi2 erms invpcid rtm rdseed adx sm\n",
            "                          ap xsaveopt arat md_clear arch_capabilities\n",
            "Virtualization features:  \n",
            "  Hypervisor vendor:      KVM\n",
            "  Virtualization type:    full\n",
            "Caches (sum of all):      \n",
            "  L1d:                    32 KiB (1 instance)\n",
            "  L1i:                    32 KiB (1 instance)\n",
            "  L2:                     256 KiB (1 instance)\n",
            "  L3:                     55 MiB (1 instance)\n",
            "NUMA:                     \n",
            "  NUMA node(s):           1\n",
            "  NUMA node0 CPU(s):      0,1\n",
            "Vulnerabilities:          \n",
            "  Gather data sampling:   Not affected\n",
            "  Itlb multihit:          Not affected\n",
            "  L1tf:                   Mitigation; PTE Inversion\n",
            "  Mds:                    Vulnerable; SMT Host state unknown\n",
            "  Meltdown:               Vulnerable\n",
            "  Mmio stale data:        Vulnerable\n",
            "  Reg file data sampling: Not affected\n",
            "  Retbleed:               Vulnerable\n",
            "  Spec rstack overflow:   Not affected\n",
            "  Spec store bypass:      Vulnerable\n",
            "  Spectre v1:             Vulnerable: __user pointer sanitization and usercopy barriers only; no swa\n",
            "                          pgs barriers\n",
            "  Spectre v2:             Vulnerable; IBPB: disabled; STIBP: disabled; PBRSB-eIBRS: Not affected; BH\n",
            "                          I: Vulnerable (Syscall hardening enabled)\n",
            "  Srbds:                  Not affected\n",
            "  Tsx async abort:        Vulnerable\n"
          ]
        }
      ],
      "source": [
        "!lscpu"
      ]
    },
    {
      "cell_type": "code",
      "source": [
        "!cat /proc/cpuinfo"
      ],
      "metadata": {
        "colab": {
          "base_uri": "https://localhost:8080/"
        },
        "id": "jw2OWITKQKuh",
        "outputId": "0e601e2c-fb7a-4ff1-e9e1-453d92f3faad"
      },
      "execution_count": 21,
      "outputs": [
        {
          "output_type": "stream",
          "name": "stdout",
          "text": [
            "processor\t: 0\n",
            "vendor_id\t: GenuineIntel\n",
            "cpu family\t: 6\n",
            "model\t\t: 79\n",
            "model name\t: Intel(R) Xeon(R) CPU @ 2.20GHz\n",
            "stepping\t: 0\n",
            "microcode\t: 0xffffffff\n",
            "cpu MHz\t\t: 2199.998\n",
            "cache size\t: 56320 KB\n",
            "physical id\t: 0\n",
            "siblings\t: 2\n",
            "core id\t\t: 0\n",
            "cpu cores\t: 1\n",
            "apicid\t\t: 0\n",
            "initial apicid\t: 0\n",
            "fpu\t\t: yes\n",
            "fpu_exception\t: yes\n",
            "cpuid level\t: 13\n",
            "wp\t\t: yes\n",
            "flags\t\t: fpu vme de pse tsc msr pae mce cx8 apic sep mtrr pge mca cmov pat pse36 clflush mmx fxsr sse sse2 ss ht syscall nx pdpe1gb rdtscp lm constant_tsc rep_good nopl xtopology nonstop_tsc cpuid tsc_known_freq pni pclmulqdq ssse3 fma cx16 pcid sse4_1 sse4_2 x2apic movbe popcnt aes xsave avx f16c rdrand hypervisor lahf_lm abm 3dnowprefetch invpcid_single ssbd ibrs ibpb stibp fsgsbase tsc_adjust bmi1 hle avx2 smep bmi2 erms invpcid rtm rdseed adx smap xsaveopt arat md_clear arch_capabilities\n",
            "bugs\t\t: cpu_meltdown spectre_v1 spectre_v2 spec_store_bypass l1tf mds swapgs taa mmio_stale_data retbleed bhi\n",
            "bogomips\t: 4399.99\n",
            "clflush size\t: 64\n",
            "cache_alignment\t: 64\n",
            "address sizes\t: 46 bits physical, 48 bits virtual\n",
            "power management:\n",
            "\n",
            "processor\t: 1\n",
            "vendor_id\t: GenuineIntel\n",
            "cpu family\t: 6\n",
            "model\t\t: 79\n",
            "model name\t: Intel(R) Xeon(R) CPU @ 2.20GHz\n",
            "stepping\t: 0\n",
            "microcode\t: 0xffffffff\n",
            "cpu MHz\t\t: 2199.998\n",
            "cache size\t: 56320 KB\n",
            "physical id\t: 0\n",
            "siblings\t: 2\n",
            "core id\t\t: 0\n",
            "cpu cores\t: 1\n",
            "apicid\t\t: 1\n",
            "initial apicid\t: 1\n",
            "fpu\t\t: yes\n",
            "fpu_exception\t: yes\n",
            "cpuid level\t: 13\n",
            "wp\t\t: yes\n",
            "flags\t\t: fpu vme de pse tsc msr pae mce cx8 apic sep mtrr pge mca cmov pat pse36 clflush mmx fxsr sse sse2 ss ht syscall nx pdpe1gb rdtscp lm constant_tsc rep_good nopl xtopology nonstop_tsc cpuid tsc_known_freq pni pclmulqdq ssse3 fma cx16 pcid sse4_1 sse4_2 x2apic movbe popcnt aes xsave avx f16c rdrand hypervisor lahf_lm abm 3dnowprefetch invpcid_single ssbd ibrs ibpb stibp fsgsbase tsc_adjust bmi1 hle avx2 smep bmi2 erms invpcid rtm rdseed adx smap xsaveopt arat md_clear arch_capabilities\n",
            "bugs\t\t: cpu_meltdown spectre_v1 spectre_v2 spec_store_bypass l1tf mds swapgs taa mmio_stale_data retbleed bhi\n",
            "bogomips\t: 4399.99\n",
            "clflush size\t: 64\n",
            "cache_alignment\t: 64\n",
            "address sizes\t: 46 bits physical, 48 bits virtual\n",
            "power management:\n",
            "\n"
          ]
        }
      ]
    },
    {
      "cell_type": "code",
      "source": [
        "!lscpu | grep \"L3 cache\""
      ],
      "metadata": {
        "colab": {
          "base_uri": "https://localhost:8080/"
        },
        "id": "LRkDyw0WTzpp",
        "outputId": "580779e3-33d9-4abc-b45a-5de22d1bac25"
      },
      "execution_count": 27,
      "outputs": [
        {
          "output_type": "stream",
          "name": "stdout",
          "text": [
            "L3 cache:                             55 MiB (1 instance)\n"
          ]
        }
      ]
    }
  ],
  "metadata": {
    "accelerator": "GPU",
    "colab": {
      "provenance": [],
      "gpuType": "T4",
      "include_colab_link": true
    },
    "kernelspec": {
      "display_name": "Python 3",
      "name": "python3"
    },
    "language_info": {
      "name": "python"
    }
  },
  "nbformat": 4,
  "nbformat_minor": 0
}